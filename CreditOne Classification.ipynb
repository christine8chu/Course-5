{
 "cells": [
  {
   "cell_type": "code",
   "execution_count": 2,
   "metadata": {},
   "outputs": [],
   "source": [
    "#imports\n",
    "#numpy, pandas, scipy, math, matplotlib \n",
    "import numpy as np \n",
    "import pandas as pd \n",
    "import scipy \n",
    "from math import sqrt \n",
    "import matplotlib.pyplot as plt\n",
    "\n",
    "#estimators \n",
    "from sklearn.covariance import EmpiricalCovariance\n",
    "from sklearn.ensemble import RandomForestClassifier \n",
    "from sklearn.svm import SVC\n",
    "from sklearn import linear_model\n",
    "from sklearn.neighbors import KNeighborsClassifier\n",
    "from sklearn.ensemble import GradientBoostingClassifier\n",
    "\n",
    "#feature selection\n",
    "from sklearn.feature_selection import RFECV\n",
    "\n",
    "#model metrics \n",
    "from sklearn.metrics import mean_squared_error \n",
    "from sklearn.metrics import r2_score \n",
    "from sklearn.model_selection import cross_val_score\n",
    "from sklearn.metrics import confusion_matrix, classification_report\n",
    "from sklearn import metrics\n",
    "\n",
    "#cross validation \n",
    "from sklearn.model_selection import train_test_split\n",
    "from sklearn.preprocessing import StandardScaler, LabelEncoder\n",
    "from sklearn.model_selection import GridSearchCV"
   ]
  },
  {
   "cell_type": "code",
   "execution_count": 7,
   "metadata": {},
   "outputs": [
    {
     "data": {
      "text/html": [
       "<div>\n",
       "<style scoped>\n",
       "    .dataframe tbody tr th:only-of-type {\n",
       "        vertical-align: middle;\n",
       "    }\n",
       "\n",
       "    .dataframe tbody tr th {\n",
       "        vertical-align: top;\n",
       "    }\n",
       "\n",
       "    .dataframe thead th {\n",
       "        text-align: right;\n",
       "    }\n",
       "</style>\n",
       "<table border=\"1\" class=\"dataframe\">\n",
       "  <thead>\n",
       "    <tr style=\"text-align: right;\">\n",
       "      <th></th>\n",
       "      <th>LIMIT_BAL</th>\n",
       "      <th>SEX</th>\n",
       "      <th>EDUCATION</th>\n",
       "      <th>MARRIAGE</th>\n",
       "      <th>AGE</th>\n",
       "      <th>PAY_1</th>\n",
       "      <th>PAY_2</th>\n",
       "      <th>PAY_3</th>\n",
       "      <th>PAY_4</th>\n",
       "      <th>PAY_5</th>\n",
       "      <th>...</th>\n",
       "      <th>BILL_AMT4</th>\n",
       "      <th>BILL_AMT5</th>\n",
       "      <th>BILL_AMT6</th>\n",
       "      <th>PAY_AMT1</th>\n",
       "      <th>PAY_AMT2</th>\n",
       "      <th>PAY_AMT3</th>\n",
       "      <th>PAY_AMT4</th>\n",
       "      <th>PAY_AMT5</th>\n",
       "      <th>PAY_AMT6</th>\n",
       "      <th>default</th>\n",
       "    </tr>\n",
       "  </thead>\n",
       "  <tbody>\n",
       "    <tr>\n",
       "      <td>0</td>\n",
       "      <td>20000</td>\n",
       "      <td>2</td>\n",
       "      <td>2</td>\n",
       "      <td>1</td>\n",
       "      <td>24</td>\n",
       "      <td>2</td>\n",
       "      <td>2</td>\n",
       "      <td>-1</td>\n",
       "      <td>-1</td>\n",
       "      <td>-2</td>\n",
       "      <td>...</td>\n",
       "      <td>0</td>\n",
       "      <td>0</td>\n",
       "      <td>0</td>\n",
       "      <td>0</td>\n",
       "      <td>689</td>\n",
       "      <td>0</td>\n",
       "      <td>0</td>\n",
       "      <td>0</td>\n",
       "      <td>0</td>\n",
       "      <td>1</td>\n",
       "    </tr>\n",
       "    <tr>\n",
       "      <td>1</td>\n",
       "      <td>120000</td>\n",
       "      <td>2</td>\n",
       "      <td>2</td>\n",
       "      <td>2</td>\n",
       "      <td>26</td>\n",
       "      <td>-1</td>\n",
       "      <td>2</td>\n",
       "      <td>0</td>\n",
       "      <td>0</td>\n",
       "      <td>0</td>\n",
       "      <td>...</td>\n",
       "      <td>3272</td>\n",
       "      <td>3455</td>\n",
       "      <td>3261</td>\n",
       "      <td>0</td>\n",
       "      <td>1000</td>\n",
       "      <td>1000</td>\n",
       "      <td>1000</td>\n",
       "      <td>0</td>\n",
       "      <td>2000</td>\n",
       "      <td>1</td>\n",
       "    </tr>\n",
       "    <tr>\n",
       "      <td>2</td>\n",
       "      <td>90000</td>\n",
       "      <td>2</td>\n",
       "      <td>2</td>\n",
       "      <td>2</td>\n",
       "      <td>34</td>\n",
       "      <td>0</td>\n",
       "      <td>0</td>\n",
       "      <td>0</td>\n",
       "      <td>0</td>\n",
       "      <td>0</td>\n",
       "      <td>...</td>\n",
       "      <td>14331</td>\n",
       "      <td>14948</td>\n",
       "      <td>15549</td>\n",
       "      <td>1518</td>\n",
       "      <td>1500</td>\n",
       "      <td>1000</td>\n",
       "      <td>1000</td>\n",
       "      <td>1000</td>\n",
       "      <td>5000</td>\n",
       "      <td>0</td>\n",
       "    </tr>\n",
       "    <tr>\n",
       "      <td>3</td>\n",
       "      <td>50000</td>\n",
       "      <td>2</td>\n",
       "      <td>2</td>\n",
       "      <td>1</td>\n",
       "      <td>37</td>\n",
       "      <td>0</td>\n",
       "      <td>0</td>\n",
       "      <td>0</td>\n",
       "      <td>0</td>\n",
       "      <td>0</td>\n",
       "      <td>...</td>\n",
       "      <td>28314</td>\n",
       "      <td>28959</td>\n",
       "      <td>29547</td>\n",
       "      <td>2000</td>\n",
       "      <td>2019</td>\n",
       "      <td>1200</td>\n",
       "      <td>1100</td>\n",
       "      <td>1069</td>\n",
       "      <td>1000</td>\n",
       "      <td>0</td>\n",
       "    </tr>\n",
       "    <tr>\n",
       "      <td>4</td>\n",
       "      <td>50000</td>\n",
       "      <td>1</td>\n",
       "      <td>2</td>\n",
       "      <td>1</td>\n",
       "      <td>57</td>\n",
       "      <td>-1</td>\n",
       "      <td>0</td>\n",
       "      <td>-1</td>\n",
       "      <td>0</td>\n",
       "      <td>0</td>\n",
       "      <td>...</td>\n",
       "      <td>20940</td>\n",
       "      <td>19146</td>\n",
       "      <td>19131</td>\n",
       "      <td>2000</td>\n",
       "      <td>36681</td>\n",
       "      <td>10000</td>\n",
       "      <td>9000</td>\n",
       "      <td>689</td>\n",
       "      <td>679</td>\n",
       "      <td>0</td>\n",
       "    </tr>\n",
       "  </tbody>\n",
       "</table>\n",
       "<p>5 rows × 24 columns</p>\n",
       "</div>"
      ],
      "text/plain": [
       "   LIMIT_BAL  SEX  EDUCATION  MARRIAGE  AGE  PAY_1  PAY_2  PAY_3  PAY_4  \\\n",
       "0      20000    2          2         1   24      2      2     -1     -1   \n",
       "1     120000    2          2         2   26     -1      2      0      0   \n",
       "2      90000    2          2         2   34      0      0      0      0   \n",
       "3      50000    2          2         1   37      0      0      0      0   \n",
       "4      50000    1          2         1   57     -1      0     -1      0   \n",
       "\n",
       "   PAY_5  ...  BILL_AMT4  BILL_AMT5  BILL_AMT6  PAY_AMT1  PAY_AMT2  PAY_AMT3  \\\n",
       "0     -2  ...          0          0          0         0       689         0   \n",
       "1      0  ...       3272       3455       3261         0      1000      1000   \n",
       "2      0  ...      14331      14948      15549      1518      1500      1000   \n",
       "3      0  ...      28314      28959      29547      2000      2019      1200   \n",
       "4      0  ...      20940      19146      19131      2000     36681     10000   \n",
       "\n",
       "   PAY_AMT4  PAY_AMT5  PAY_AMT6  default  \n",
       "0         0         0         0        1  \n",
       "1      1000         0      2000        1  \n",
       "2      1000      1000      5000        0  \n",
       "3      1100      1069      1000        0  \n",
       "4      9000       689       679        0  \n",
       "\n",
       "[5 rows x 24 columns]"
      ]
     },
     "execution_count": 7,
     "metadata": {},
     "output_type": "execute_result"
    }
   ],
   "source": [
    "rawData = pd.read_csv('default of credit cleaned.csv', header=0)\n",
    "rawData.head()"
   ]
  },
  {
   "cell_type": "code",
   "execution_count": 8,
   "metadata": {},
   "outputs": [
    {
     "name": "stdout",
     "output_type": "stream",
     "text": [
      "<class 'pandas.core.frame.DataFrame'>\n",
      "RangeIndex: 30000 entries, 0 to 29999\n",
      "Data columns (total 24 columns):\n",
      "LIMIT_BAL    30000 non-null int64\n",
      "SEX          30000 non-null int64\n",
      "EDUCATION    30000 non-null int64\n",
      "MARRIAGE     30000 non-null int64\n",
      "AGE          30000 non-null int64\n",
      "PAY_1        30000 non-null int64\n",
      "PAY_2        30000 non-null int64\n",
      "PAY_3        30000 non-null int64\n",
      "PAY_4        30000 non-null int64\n",
      "PAY_5        30000 non-null int64\n",
      "PAY_6        30000 non-null int64\n",
      "BILL_AMT1    30000 non-null int64\n",
      "BILL_AMT2    30000 non-null int64\n",
      "BILL_AMT3    30000 non-null int64\n",
      "BILL_AMT4    30000 non-null int64\n",
      "BILL_AMT5    30000 non-null int64\n",
      "BILL_AMT6    30000 non-null int64\n",
      "PAY_AMT1     30000 non-null int64\n",
      "PAY_AMT2     30000 non-null int64\n",
      "PAY_AMT3     30000 non-null int64\n",
      "PAY_AMT4     30000 non-null int64\n",
      "PAY_AMT5     30000 non-null int64\n",
      "PAY_AMT6     30000 non-null int64\n",
      "default      30000 non-null int64\n",
      "dtypes: int64(24)\n",
      "memory usage: 5.5 MB\n"
     ]
    }
   ],
   "source": [
    "rawData.info()"
   ]
  },
  {
   "cell_type": "code",
   "execution_count": 9,
   "metadata": {},
   "outputs": [],
   "source": [
    "#random sampling to 10,000 observations\n",
    "tenData = rawData.sample(n=10000)"
   ]
  },
  {
   "cell_type": "code",
   "execution_count": 10,
   "metadata": {},
   "outputs": [
    {
     "data": {
      "text/html": [
       "<div>\n",
       "<style scoped>\n",
       "    .dataframe tbody tr th:only-of-type {\n",
       "        vertical-align: middle;\n",
       "    }\n",
       "\n",
       "    .dataframe tbody tr th {\n",
       "        vertical-align: top;\n",
       "    }\n",
       "\n",
       "    .dataframe thead th {\n",
       "        text-align: right;\n",
       "    }\n",
       "</style>\n",
       "<table border=\"1\" class=\"dataframe\">\n",
       "  <thead>\n",
       "    <tr style=\"text-align: right;\">\n",
       "      <th></th>\n",
       "      <th>LIMIT_BAL</th>\n",
       "      <th>SEX</th>\n",
       "      <th>EDUCATION</th>\n",
       "      <th>MARRIAGE</th>\n",
       "      <th>AGE</th>\n",
       "      <th>PAY_1</th>\n",
       "      <th>PAY_2</th>\n",
       "      <th>PAY_3</th>\n",
       "      <th>PAY_4</th>\n",
       "      <th>PAY_5</th>\n",
       "      <th>...</th>\n",
       "      <th>BILL_AMT4</th>\n",
       "      <th>BILL_AMT5</th>\n",
       "      <th>BILL_AMT6</th>\n",
       "      <th>PAY_AMT1</th>\n",
       "      <th>PAY_AMT2</th>\n",
       "      <th>PAY_AMT3</th>\n",
       "      <th>PAY_AMT4</th>\n",
       "      <th>PAY_AMT5</th>\n",
       "      <th>PAY_AMT6</th>\n",
       "      <th>default</th>\n",
       "    </tr>\n",
       "  </thead>\n",
       "  <tbody>\n",
       "    <tr>\n",
       "      <td>5493</td>\n",
       "      <td>60000</td>\n",
       "      <td>1</td>\n",
       "      <td>2</td>\n",
       "      <td>1</td>\n",
       "      <td>24</td>\n",
       "      <td>0</td>\n",
       "      <td>0</td>\n",
       "      <td>0</td>\n",
       "      <td>0</td>\n",
       "      <td>0</td>\n",
       "      <td>...</td>\n",
       "      <td>18118</td>\n",
       "      <td>16179</td>\n",
       "      <td>12919</td>\n",
       "      <td>1400</td>\n",
       "      <td>1500</td>\n",
       "      <td>1295</td>\n",
       "      <td>3655</td>\n",
       "      <td>330</td>\n",
       "      <td>507</td>\n",
       "      <td>0</td>\n",
       "    </tr>\n",
       "    <tr>\n",
       "      <td>21459</td>\n",
       "      <td>330000</td>\n",
       "      <td>2</td>\n",
       "      <td>3</td>\n",
       "      <td>1</td>\n",
       "      <td>27</td>\n",
       "      <td>-1</td>\n",
       "      <td>-1</td>\n",
       "      <td>-1</td>\n",
       "      <td>-1</td>\n",
       "      <td>0</td>\n",
       "      <td>...</td>\n",
       "      <td>46353</td>\n",
       "      <td>2175</td>\n",
       "      <td>30824</td>\n",
       "      <td>4885</td>\n",
       "      <td>906</td>\n",
       "      <td>46789</td>\n",
       "      <td>10</td>\n",
       "      <td>30824</td>\n",
       "      <td>6269</td>\n",
       "      <td>0</td>\n",
       "    </tr>\n",
       "    <tr>\n",
       "      <td>11562</td>\n",
       "      <td>80000</td>\n",
       "      <td>2</td>\n",
       "      <td>1</td>\n",
       "      <td>2</td>\n",
       "      <td>27</td>\n",
       "      <td>0</td>\n",
       "      <td>0</td>\n",
       "      <td>0</td>\n",
       "      <td>0</td>\n",
       "      <td>0</td>\n",
       "      <td>...</td>\n",
       "      <td>36084</td>\n",
       "      <td>13693</td>\n",
       "      <td>79701</td>\n",
       "      <td>3565</td>\n",
       "      <td>1752</td>\n",
       "      <td>1105</td>\n",
       "      <td>1499</td>\n",
       "      <td>78000</td>\n",
       "      <td>0</td>\n",
       "      <td>0</td>\n",
       "    </tr>\n",
       "    <tr>\n",
       "      <td>21071</td>\n",
       "      <td>340000</td>\n",
       "      <td>1</td>\n",
       "      <td>1</td>\n",
       "      <td>2</td>\n",
       "      <td>35</td>\n",
       "      <td>0</td>\n",
       "      <td>-1</td>\n",
       "      <td>-1</td>\n",
       "      <td>-1</td>\n",
       "      <td>0</td>\n",
       "      <td>...</td>\n",
       "      <td>29103</td>\n",
       "      <td>58997</td>\n",
       "      <td>12518</td>\n",
       "      <td>16591</td>\n",
       "      <td>27283</td>\n",
       "      <td>29255</td>\n",
       "      <td>58276</td>\n",
       "      <td>12565</td>\n",
       "      <td>13507</td>\n",
       "      <td>0</td>\n",
       "    </tr>\n",
       "    <tr>\n",
       "      <td>20313</td>\n",
       "      <td>270000</td>\n",
       "      <td>2</td>\n",
       "      <td>1</td>\n",
       "      <td>1</td>\n",
       "      <td>60</td>\n",
       "      <td>-1</td>\n",
       "      <td>-1</td>\n",
       "      <td>-1</td>\n",
       "      <td>-1</td>\n",
       "      <td>-1</td>\n",
       "      <td>...</td>\n",
       "      <td>836</td>\n",
       "      <td>1972</td>\n",
       "      <td>986</td>\n",
       "      <td>836</td>\n",
       "      <td>836</td>\n",
       "      <td>836</td>\n",
       "      <td>1972</td>\n",
       "      <td>0</td>\n",
       "      <td>836</td>\n",
       "      <td>1</td>\n",
       "    </tr>\n",
       "  </tbody>\n",
       "</table>\n",
       "<p>5 rows × 24 columns</p>\n",
       "</div>"
      ],
      "text/plain": [
       "       LIMIT_BAL  SEX  EDUCATION  MARRIAGE  AGE  PAY_1  PAY_2  PAY_3  PAY_4  \\\n",
       "5493       60000    1          2         1   24      0      0      0      0   \n",
       "21459     330000    2          3         1   27     -1     -1     -1     -1   \n",
       "11562      80000    2          1         2   27      0      0      0      0   \n",
       "21071     340000    1          1         2   35      0     -1     -1     -1   \n",
       "20313     270000    2          1         1   60     -1     -1     -1     -1   \n",
       "\n",
       "       PAY_5  ...  BILL_AMT4  BILL_AMT5  BILL_AMT6  PAY_AMT1  PAY_AMT2  \\\n",
       "5493       0  ...      18118      16179      12919      1400      1500   \n",
       "21459      0  ...      46353       2175      30824      4885       906   \n",
       "11562      0  ...      36084      13693      79701      3565      1752   \n",
       "21071      0  ...      29103      58997      12518     16591     27283   \n",
       "20313     -1  ...        836       1972        986       836       836   \n",
       "\n",
       "       PAY_AMT3  PAY_AMT4  PAY_AMT5  PAY_AMT6  default  \n",
       "5493       1295      3655       330       507        0  \n",
       "21459     46789        10     30824      6269        0  \n",
       "11562      1105      1499     78000         0        0  \n",
       "21071     29255     58276     12565     13507        0  \n",
       "20313       836      1972         0       836        1  \n",
       "\n",
       "[5 rows x 24 columns]"
      ]
     },
     "execution_count": 10,
     "metadata": {},
     "output_type": "execute_result"
    }
   ],
   "source": [
    "tenData.head()"
   ]
  },
  {
   "cell_type": "code",
   "execution_count": 11,
   "metadata": {},
   "outputs": [
    {
     "name": "stdout",
     "output_type": "stream",
     "text": [
      "Summary of feature sample\n"
     ]
    },
    {
     "data": {
      "text/html": [
       "<div>\n",
       "<style scoped>\n",
       "    .dataframe tbody tr th:only-of-type {\n",
       "        vertical-align: middle;\n",
       "    }\n",
       "\n",
       "    .dataframe tbody tr th {\n",
       "        vertical-align: top;\n",
       "    }\n",
       "\n",
       "    .dataframe thead th {\n",
       "        text-align: right;\n",
       "    }\n",
       "</style>\n",
       "<table border=\"1\" class=\"dataframe\">\n",
       "  <thead>\n",
       "    <tr style=\"text-align: right;\">\n",
       "      <th></th>\n",
       "      <th>LIMIT_BAL</th>\n",
       "      <th>SEX</th>\n",
       "      <th>EDUCATION</th>\n",
       "      <th>MARRIAGE</th>\n",
       "      <th>AGE</th>\n",
       "      <th>PAY_1</th>\n",
       "      <th>PAY_2</th>\n",
       "      <th>PAY_3</th>\n",
       "      <th>PAY_4</th>\n",
       "      <th>PAY_5</th>\n",
       "      <th>...</th>\n",
       "      <th>BILL_AMT3</th>\n",
       "      <th>BILL_AMT4</th>\n",
       "      <th>BILL_AMT5</th>\n",
       "      <th>BILL_AMT6</th>\n",
       "      <th>PAY_AMT1</th>\n",
       "      <th>PAY_AMT2</th>\n",
       "      <th>PAY_AMT3</th>\n",
       "      <th>PAY_AMT4</th>\n",
       "      <th>PAY_AMT5</th>\n",
       "      <th>PAY_AMT6</th>\n",
       "    </tr>\n",
       "  </thead>\n",
       "  <tbody>\n",
       "    <tr>\n",
       "      <td>5493</td>\n",
       "      <td>60000</td>\n",
       "      <td>1</td>\n",
       "      <td>2</td>\n",
       "      <td>1</td>\n",
       "      <td>24</td>\n",
       "      <td>0</td>\n",
       "      <td>0</td>\n",
       "      <td>0</td>\n",
       "      <td>0</td>\n",
       "      <td>0</td>\n",
       "      <td>...</td>\n",
       "      <td>18571</td>\n",
       "      <td>18118</td>\n",
       "      <td>16179</td>\n",
       "      <td>12919</td>\n",
       "      <td>1400</td>\n",
       "      <td>1500</td>\n",
       "      <td>1295</td>\n",
       "      <td>3655</td>\n",
       "      <td>330</td>\n",
       "      <td>507</td>\n",
       "    </tr>\n",
       "    <tr>\n",
       "      <td>21459</td>\n",
       "      <td>330000</td>\n",
       "      <td>2</td>\n",
       "      <td>3</td>\n",
       "      <td>1</td>\n",
       "      <td>27</td>\n",
       "      <td>-1</td>\n",
       "      <td>-1</td>\n",
       "      <td>-1</td>\n",
       "      <td>-1</td>\n",
       "      <td>0</td>\n",
       "      <td>...</td>\n",
       "      <td>906</td>\n",
       "      <td>46353</td>\n",
       "      <td>2175</td>\n",
       "      <td>30824</td>\n",
       "      <td>4885</td>\n",
       "      <td>906</td>\n",
       "      <td>46789</td>\n",
       "      <td>10</td>\n",
       "      <td>30824</td>\n",
       "      <td>6269</td>\n",
       "    </tr>\n",
       "    <tr>\n",
       "      <td>11562</td>\n",
       "      <td>80000</td>\n",
       "      <td>2</td>\n",
       "      <td>1</td>\n",
       "      <td>2</td>\n",
       "      <td>27</td>\n",
       "      <td>0</td>\n",
       "      <td>0</td>\n",
       "      <td>0</td>\n",
       "      <td>0</td>\n",
       "      <td>0</td>\n",
       "      <td>...</td>\n",
       "      <td>61018</td>\n",
       "      <td>36084</td>\n",
       "      <td>13693</td>\n",
       "      <td>79701</td>\n",
       "      <td>3565</td>\n",
       "      <td>1752</td>\n",
       "      <td>1105</td>\n",
       "      <td>1499</td>\n",
       "      <td>78000</td>\n",
       "      <td>0</td>\n",
       "    </tr>\n",
       "    <tr>\n",
       "      <td>21071</td>\n",
       "      <td>340000</td>\n",
       "      <td>1</td>\n",
       "      <td>1</td>\n",
       "      <td>2</td>\n",
       "      <td>35</td>\n",
       "      <td>0</td>\n",
       "      <td>-1</td>\n",
       "      <td>-1</td>\n",
       "      <td>-1</td>\n",
       "      <td>0</td>\n",
       "      <td>...</td>\n",
       "      <td>27050</td>\n",
       "      <td>29103</td>\n",
       "      <td>58997</td>\n",
       "      <td>12518</td>\n",
       "      <td>16591</td>\n",
       "      <td>27283</td>\n",
       "      <td>29255</td>\n",
       "      <td>58276</td>\n",
       "      <td>12565</td>\n",
       "      <td>13507</td>\n",
       "    </tr>\n",
       "    <tr>\n",
       "      <td>20313</td>\n",
       "      <td>270000</td>\n",
       "      <td>2</td>\n",
       "      <td>1</td>\n",
       "      <td>1</td>\n",
       "      <td>60</td>\n",
       "      <td>-1</td>\n",
       "      <td>-1</td>\n",
       "      <td>-1</td>\n",
       "      <td>-1</td>\n",
       "      <td>-1</td>\n",
       "      <td>...</td>\n",
       "      <td>836</td>\n",
       "      <td>836</td>\n",
       "      <td>1972</td>\n",
       "      <td>986</td>\n",
       "      <td>836</td>\n",
       "      <td>836</td>\n",
       "      <td>836</td>\n",
       "      <td>1972</td>\n",
       "      <td>0</td>\n",
       "      <td>836</td>\n",
       "    </tr>\n",
       "  </tbody>\n",
       "</table>\n",
       "<p>5 rows × 23 columns</p>\n",
       "</div>"
      ],
      "text/plain": [
       "       LIMIT_BAL  SEX  EDUCATION  MARRIAGE  AGE  PAY_1  PAY_2  PAY_3  PAY_4  \\\n",
       "5493       60000    1          2         1   24      0      0      0      0   \n",
       "21459     330000    2          3         1   27     -1     -1     -1     -1   \n",
       "11562      80000    2          1         2   27      0      0      0      0   \n",
       "21071     340000    1          1         2   35      0     -1     -1     -1   \n",
       "20313     270000    2          1         1   60     -1     -1     -1     -1   \n",
       "\n",
       "       PAY_5  ...  BILL_AMT3  BILL_AMT4  BILL_AMT5  BILL_AMT6  PAY_AMT1  \\\n",
       "5493       0  ...      18571      18118      16179      12919      1400   \n",
       "21459      0  ...        906      46353       2175      30824      4885   \n",
       "11562      0  ...      61018      36084      13693      79701      3565   \n",
       "21071      0  ...      27050      29103      58997      12518     16591   \n",
       "20313     -1  ...        836        836       1972        986       836   \n",
       "\n",
       "       PAY_AMT2  PAY_AMT3  PAY_AMT4  PAY_AMT5  PAY_AMT6  \n",
       "5493       1500      1295      3655       330       507  \n",
       "21459       906     46789        10     30824      6269  \n",
       "11562      1752      1105      1499     78000         0  \n",
       "21071     27283     29255     58276     12565     13507  \n",
       "20313       836       836      1972         0       836  \n",
       "\n",
       "[5 rows x 23 columns]"
      ]
     },
     "execution_count": 11,
     "metadata": {},
     "output_type": "execute_result"
    }
   ],
   "source": [
    "#select the features\n",
    "features = tenData.drop('default', axis=1)\n",
    "print('Summary of feature sample')\n",
    "features.head()"
   ]
  },
  {
   "cell_type": "code",
   "execution_count": 12,
   "metadata": {},
   "outputs": [],
   "source": [
    "#select dependent variable\n",
    "depVar = tenData['default']"
   ]
  },
  {
   "cell_type": "code",
   "execution_count": 13,
   "metadata": {},
   "outputs": [],
   "source": [
    "#train and test splitting of data\n",
    "X_train, X_test, y_train, y_test = train_test_split(features, depVar, test_size=0.3, random_state=42)"
   ]
  },
  {
   "cell_type": "code",
   "execution_count": 14,
   "metadata": {},
   "outputs": [
    {
     "data": {
      "text/plain": [
       "((7000, 23), (3000, 23))"
      ]
     },
     "execution_count": 14,
     "metadata": {},
     "output_type": "execute_result"
    }
   ],
   "source": [
    "X_train.shape, X_test.shape"
   ]
  },
  {
   "cell_type": "code",
   "execution_count": 15,
   "metadata": {},
   "outputs": [],
   "source": [
    "#scale features\n",
    "sc = StandardScaler()\n",
    "X_train = sc.fit_transform(X_train)\n",
    "X_test = sc.transform(X_test)"
   ]
  },
  {
   "cell_type": "code",
   "execution_count": 48,
   "metadata": {},
   "outputs": [
    {
     "data": {
      "text/plain": [
       "EmpiricalCovariance(assume_centered=False, store_precision=True)"
      ]
     },
     "execution_count": 48,
     "metadata": {},
     "output_type": "execute_result"
    }
   ],
   "source": [
    "emp_cov = EmpiricalCovariance(assume_centered = False).fit(X_train)\n",
    "emp_cov"
   ]
  },
  {
   "cell_type": "code",
   "execution_count": 50,
   "metadata": {},
   "outputs": [
    {
     "name": "stdout",
     "output_type": "stream",
     "text": [
      "              LIMIT_BAL          SEX     EDUCATION     MARRIAGE  \\\n",
      "LIMIT_BAL  1.664582e+10   123.256326 -21879.965597 -6882.463446   \n",
      "SEX        1.232563e+02     0.238682      0.003120    -0.009538   \n",
      "EDUCATION -2.187997e+04     0.003120      0.626277    -0.059024   \n",
      "MARRIAGE  -6.882463e+03    -0.009538     -0.059024     0.274590   \n",
      "AGE        1.742577e+05    -0.466494      1.251439    -1.998721   \n",
      "PAY_1     -3.959133e+04    -0.028848      0.093054     0.019693   \n",
      "PAY_2     -4.659082e+04    -0.040095      0.105534     0.026819   \n",
      "PAY_3     -4.496118e+04    -0.036189      0.102597     0.022864   \n",
      "PAY_4     -4.218687e+04    -0.031802      0.092414     0.025429   \n",
      "PAY_5     -3.780610e+04    -0.031731      0.078499     0.026086   \n",
      "PAY_6     -3.515156e+04    -0.024186      0.069064     0.027872   \n",
      "BILL_AMT1  2.576608e+09 -1684.730497   1844.149505  -994.487250   \n",
      "BILL_AMT2  2.459342e+09 -1490.135112   1437.968455  -958.144729   \n",
      "BILL_AMT3  2.383428e+09 -1067.354078   1027.085722 -1316.452305   \n",
      "BILL_AMT4  2.257743e+09  -952.379219    339.116722 -1042.524574   \n",
      "BILL_AMT5  2.114889e+09  -861.704061   -157.551311  -917.075667   \n",
      "BILL_AMT6  2.072083e+09  -809.259952     23.428174  -779.853533   \n",
      "PAY_AMT1   4.062310e+08   -87.400902   -372.152804  -182.739632   \n",
      "PAY_AMT2   4.758790e+08  -100.460097   -526.429353  -276.385514   \n",
      "PAY_AMT3   4.403679e+08  -126.281018   -398.320316  -124.944151   \n",
      "PAY_AMT4   4.093830e+08   -32.572582   -469.668801   -59.408285   \n",
      "PAY_AMT5   4.193751e+08    26.879295   -309.474886   -74.466997   \n",
      "PAY_AMT6   4.462501e+08    23.654184   -466.664876  -101.443345   \n",
      "default   -8.506062e+03    -0.006035      0.002733    -0.003186   \n",
      "\n",
      "                     AGE         PAY_1         PAY_2         PAY_3  \\\n",
      "LIMIT_BAL  174257.692169 -39591.328733 -46590.818282 -44961.180118   \n",
      "SEX            -0.466494     -0.028848     -0.040095     -0.036189   \n",
      "EDUCATION       1.251439      0.093054      0.105534      0.102597   \n",
      "MARRIAGE       -1.998721      0.019693      0.026819      0.022864   \n",
      "AGE            83.793100     -0.501520     -0.628796     -0.700394   \n",
      "PAY_1          -0.501520      1.242911      0.871891      0.739470   \n",
      "PAY_2          -0.628796      0.871891      1.439757      1.097166   \n",
      "PAY_3          -0.700394      0.739470      1.097166      1.460034   \n",
      "PAY_4          -0.701514      0.676595      0.918014      1.099893   \n",
      "PAY_5          -0.688610      0.620346      0.830447      0.928947   \n",
      "PAY_6          -0.639226      0.593285      0.776350      0.867356   \n",
      "BILL_AMT1   29100.655831  14621.358657  20530.933257  18779.729237   \n",
      "BILL_AMT2   27411.459216  14267.825228  19879.097178  20641.396925   \n",
      "BILL_AMT3   27110.208831  13488.299253  18720.718173  19488.912362   \n",
      "BILL_AMT4   25072.350784  12657.016797  17344.488217  18148.008696   \n",
      "BILL_AMT5   23630.858960  12073.297121  16266.815036  17073.534648   \n",
      "BILL_AMT6   22960.281928  11566.617649  15589.697130  16351.110643   \n",
      "PAY_AMT1     4071.786763  -1669.929041  -1651.710712    -95.869961   \n",
      "PAY_AMT2     3595.675511  -1636.896870  -1417.658378  -1775.960881   \n",
      "PAY_AMT3     3856.658888  -1325.197495  -1100.122356  -1074.389903   \n",
      "PAY_AMT4     4086.895771  -1235.111959   -985.555187   -957.093437   \n",
      "PAY_AMT5     4104.719796  -1209.566569   -787.831025   -808.923221   \n",
      "PAY_AMT6     3065.629788  -1322.531888   -674.690907   -924.554414   \n",
      "default         0.049513      0.154783      0.127906      0.115793   \n",
      "\n",
      "                  PAY_4         PAY_5  ...     BILL_AMT4     BILL_AMT5  \\\n",
      "LIMIT_BAL -42186.874687 -37806.095010  ...  2.257743e+09  2.114889e+09   \n",
      "SEX           -0.031802     -0.031731  ... -9.523792e+02 -8.617041e+02   \n",
      "EDUCATION      0.092414      0.078499  ...  3.391167e+02 -1.575513e+02   \n",
      "MARRIAGE       0.025429      0.026086  ... -1.042525e+03 -9.170757e+02   \n",
      "AGE           -0.701514     -0.688610  ...  2.507235e+04  2.363086e+04   \n",
      "PAY_1          0.676595      0.620346  ...  1.265702e+04  1.207330e+04   \n",
      "PAY_2          0.918014      0.830447  ...  1.734449e+04  1.626682e+04   \n",
      "PAY_3          1.099893      0.928947  ...  1.814801e+04  1.707353e+04   \n",
      "PAY_4          1.374976      1.082389  ...  1.880970e+04  1.759304e+04   \n",
      "PAY_5          1.082389      1.281361  ...  1.995775e+04  1.870371e+04   \n",
      "PAY_6          0.961424      1.067788  ...  2.043086e+04  2.114797e+04   \n",
      "BILL_AMT1  17818.355212  17273.301673  ...  3.998927e+09  3.609030e+09   \n",
      "BILL_AMT2  19172.618196  18334.414557  ...  4.010902e+09  3.619678e+09   \n",
      "BILL_AMT3  20214.130200  18963.410688  ...  3.988936e+09  3.580510e+09   \n",
      "BILL_AMT4  18809.698953  19957.745524  ...  3.983271e+09  3.514780e+09   \n",
      "BILL_AMT5  17593.039754  18703.714875  ...  3.514780e+09  3.541037e+09   \n",
      "BILL_AMT6  16735.733406  17792.058013  ...  3.321001e+09  3.307652e+09   \n",
      "PAY_AMT1    -197.627960   -131.935407  ...  2.441153e+08  2.075762e+08   \n",
      "PAY_AMT2    -147.474183   -344.095627  ...  2.533113e+08  1.991490e+08   \n",
      "PAY_AMT3   -1321.076439    189.277001  ...  3.078010e+08  2.284430e+08   \n",
      "PAY_AMT4    -791.992444  -1032.953075  ...  1.255889e+08  2.727217e+08   \n",
      "PAY_AMT5    -694.552369   -750.283582  ...  1.422408e+08  1.142612e+08   \n",
      "PAY_AMT6    -714.163524   -643.869498  ...  1.917036e+08  1.661420e+08   \n",
      "default        0.103008      0.092098  ... -3.534850e+02 -2.861484e+02   \n",
      "\n",
      "              BILL_AMT6      PAY_AMT1      PAY_AMT2      PAY_AMT3  \\\n",
      "LIMIT_BAL  2.072083e+09  4.062310e+08  4.758790e+08  4.403679e+08   \n",
      "SEX       -8.092600e+02 -8.740090e+01 -1.004601e+02 -1.262810e+02   \n",
      "EDUCATION  2.342817e+01 -3.721528e+02 -5.264294e+02 -3.983203e+02   \n",
      "MARRIAGE  -7.798535e+02 -1.827396e+02 -2.763855e+02 -1.249442e+02   \n",
      "AGE        2.296028e+04  4.071787e+03  3.595676e+03  3.856659e+03   \n",
      "PAY_1      1.156662e+04 -1.669929e+03 -1.636897e+03 -1.325197e+03   \n",
      "PAY_2      1.558970e+04 -1.651711e+03 -1.417658e+03 -1.100122e+03   \n",
      "PAY_3      1.635111e+04 -9.586996e+01 -1.775961e+03 -1.074390e+03   \n",
      "PAY_4      1.673573e+04 -1.976280e+02 -1.474742e+02 -1.321076e+03   \n",
      "PAY_5      1.779206e+04 -1.319354e+02 -3.440956e+02  1.892770e+02   \n",
      "PAY_6      2.020386e+04  4.718244e+01 -1.241655e+02  9.897899e+01   \n",
      "BILL_AMT1  3.426688e+09  1.745008e+08  1.632448e+08  1.774287e+08   \n",
      "BILL_AMT2  3.431762e+09  3.231384e+08  1.408733e+08  1.691127e+08   \n",
      "BILL_AMT3  3.432120e+09  2.607210e+08  6.771280e+08  1.381387e+08   \n",
      "BILL_AMT4  3.321001e+09  2.441153e+08  2.533113e+08  3.078010e+08   \n",
      "BILL_AMT5  3.307652e+09  2.075762e+08  1.991490e+08  2.284430e+08   \n",
      "BILL_AMT6  3.439683e+09  1.884476e+08  2.333927e+08  2.147634e+08   \n",
      "PAY_AMT1   1.884476e+08  2.481174e+08  5.684193e+07  4.982963e+07   \n",
      "PAY_AMT2   2.333927e+08  5.684193e+07  6.331911e+08  6.640744e+07   \n",
      "PAY_AMT3   2.147634e+08  4.982963e+07  6.640744e+07  2.663979e+08   \n",
      "PAY_AMT4   2.419455e+08  3.521594e+07  5.175609e+07  4.292101e+07   \n",
      "PAY_AMT5   2.833026e+08  3.142901e+07  1.054232e+08  3.897207e+07   \n",
      "PAY_AMT6   1.363030e+08  4.284156e+07  4.137470e+07  4.295154e+07   \n",
      "default   -1.480506e+02 -4.974519e+02 -6.119037e+02 -4.243795e+02   \n",
      "\n",
      "               PAY_AMT4      PAY_AMT5      PAY_AMT6      default  \n",
      "LIMIT_BAL  4.093830e+08  4.193751e+08  4.462501e+08 -8506.061806  \n",
      "SEX       -3.257258e+01  2.687930e+01  2.365418e+01    -0.006035  \n",
      "EDUCATION -4.696688e+02 -3.094749e+02 -4.666649e+02     0.002733  \n",
      "MARRIAGE  -5.940828e+01 -7.446700e+01 -1.014433e+02    -0.003186  \n",
      "AGE        4.086896e+03  4.104720e+03  3.065630e+03     0.049513  \n",
      "PAY_1     -1.235112e+03 -1.209567e+03 -1.322532e+03     0.154783  \n",
      "PAY_2     -9.855552e+02 -7.878310e+02 -6.746909e+02     0.127906  \n",
      "PAY_3     -9.570934e+02 -8.089232e+02 -9.245544e+02     0.115793  \n",
      "PAY_4     -7.919924e+02 -6.945524e+02 -7.141635e+02     0.103008  \n",
      "PAY_5     -1.032953e+03 -7.502836e+02 -6.438695e+02     0.092098  \n",
      "PAY_6      4.145133e+02 -8.551885e+02 -5.570162e+02     0.084625  \n",
      "BILL_AMT1  1.803165e+08  1.626904e+08  2.409261e+08  -761.873832  \n",
      "BILL_AMT2  1.623594e+08  1.520883e+08  2.239252e+08  -576.032803  \n",
      "BILL_AMT3  1.606451e+08  2.135442e+08  2.098667e+08  -574.422429  \n",
      "BILL_AMT4  1.255889e+08  1.422408e+08  1.917036e+08  -353.485044  \n",
      "BILL_AMT5  2.727217e+08  1.142612e+08  1.661420e+08  -286.148377  \n",
      "BILL_AMT6  2.419455e+08  2.833026e+08  1.363030e+08  -148.050585  \n",
      "PAY_AMT1   3.521594e+07  3.142901e+07  4.284156e+07  -497.451896  \n",
      "PAY_AMT2   5.175609e+07  1.054232e+08  4.137470e+07  -611.903670  \n",
      "PAY_AMT3   4.292101e+07  3.897207e+07  4.295154e+07  -424.379511  \n",
      "PAY_AMT4   2.381587e+08  3.815745e+07  3.289661e+07  -387.384251  \n",
      "PAY_AMT5   3.815745e+07  2.501772e+08  4.040206e+07  -331.710437  \n",
      "PAY_AMT6   3.289661e+07  4.040206e+07  3.042833e+08  -447.721673  \n",
      "default   -3.873843e+02 -3.317104e+02 -4.477217e+02     0.173731  \n",
      "\n",
      "[24 rows x 24 columns]\n"
     ]
    }
   ],
   "source": [
    "covMat = tenData.cov()\n",
    "print(covMat)"
   ]
  },
  {
   "cell_type": "markdown",
   "metadata": {},
   "source": [
    "Random Forest - default"
   ]
  },
  {
   "cell_type": "code",
   "execution_count": 35,
   "metadata": {},
   "outputs": [
    {
     "name": "stdout",
     "output_type": "stream",
     "text": [
      "[0.81362468 0.8058294  0.80925847]\n"
     ]
    }
   ],
   "source": [
    "modelRF = RandomForestClassifier(n_estimators=100)\n",
    "modelRF.fit(X_train, y_train)\n",
    "print(cross_val_score(modelRF, X_train, y_train, cv=3))\n",
    "pred_RF = modelRF.predict(X_test)"
   ]
  },
  {
   "cell_type": "code",
   "execution_count": 36,
   "metadata": {},
   "outputs": [
    {
     "data": {
      "text/plain": [
       "0.9998571428571429"
      ]
     },
     "execution_count": 36,
     "metadata": {},
     "output_type": "execute_result"
    }
   ],
   "source": [
    "modelRF.score(X_train, y_train)"
   ]
  },
  {
   "cell_type": "code",
   "execution_count": 37,
   "metadata": {},
   "outputs": [
    {
     "name": "stdout",
     "output_type": "stream",
     "text": [
      "              precision    recall  f1-score   support\n",
      "\n",
      "           0       0.84      0.94      0.89      2355\n",
      "           1       0.62      0.35      0.45       645\n",
      "\n",
      "    accuracy                           0.81      3000\n",
      "   macro avg       0.73      0.65      0.67      3000\n",
      "weighted avg       0.79      0.81      0.79      3000\n",
      "\n",
      "[[2217  138]\n",
      " [ 417  228]]\n"
     ]
    }
   ],
   "source": [
    "print(classification_report(y_test, pred_RF))\n",
    "print(confusion_matrix(y_test, pred_RF))"
   ]
  },
  {
   "cell_type": "markdown",
   "metadata": {},
   "source": [
    "Gradient Boosting - default"
   ]
  },
  {
   "cell_type": "code",
   "execution_count": 52,
   "metadata": {},
   "outputs": [
    {
     "name": "stdout",
     "output_type": "stream",
     "text": [
      "[0.81576692 0.81311616 0.81225889]\n"
     ]
    }
   ],
   "source": [
    "modelGB = GradientBoostingClassifier(n_estimators=100, random_state=42)\n",
    "modelGB.fit(X_train, y_train)\n",
    "print(cross_val_score(modelGB, X_train, y_train, cv=3))\n",
    "pred_GB = modelGB.predict(X_test)"
   ]
  },
  {
   "cell_type": "code",
   "execution_count": 53,
   "metadata": {},
   "outputs": [
    {
     "data": {
      "text/plain": [
       "0.834"
      ]
     },
     "execution_count": 53,
     "metadata": {},
     "output_type": "execute_result"
    }
   ],
   "source": [
    "modelGB.score(X_train, y_train)"
   ]
  },
  {
   "cell_type": "code",
   "execution_count": 54,
   "metadata": {},
   "outputs": [
    {
     "name": "stdout",
     "output_type": "stream",
     "text": [
      "              precision    recall  f1-score   support\n",
      "\n",
      "           0       0.85      0.95      0.90      2355\n",
      "           1       0.68      0.37      0.48       645\n",
      "\n",
      "    accuracy                           0.83      3000\n",
      "   macro avg       0.76      0.66      0.69      3000\n",
      "weighted avg       0.81      0.83      0.81      3000\n",
      "\n",
      "[[2241  114]\n",
      " [ 406  239]]\n"
     ]
    }
   ],
   "source": [
    "print(classification_report(y_test, pred_GB))\n",
    "print(confusion_matrix(y_test, pred_GB))"
   ]
  },
  {
   "cell_type": "markdown",
   "metadata": {},
   "source": [
    "SVC - default"
   ]
  },
  {
   "cell_type": "code",
   "execution_count": 83,
   "metadata": {},
   "outputs": [
    {
     "name": "stdout",
     "output_type": "stream",
     "text": [
      "[0.80857143 0.81571429 0.79714286 0.81       0.82928571]\n"
     ]
    },
    {
     "data": {
      "text/plain": [
       "0.8247142857142857"
      ]
     },
     "execution_count": 83,
     "metadata": {},
     "output_type": "execute_result"
    }
   ],
   "source": [
    "modelSVC = SVC()\n",
    "modelSVC.fit(X_train, y_train)\n",
    "print(cross_val_score(modelSVC, X_train, y_train))\n",
    "modelSVC.score(X_train, y_train)"
   ]
  },
  {
   "cell_type": "code",
   "execution_count": 84,
   "metadata": {},
   "outputs": [],
   "source": [
    "pred_SVC = modelSVC.predict(X_test)"
   ]
  },
  {
   "cell_type": "code",
   "execution_count": 85,
   "metadata": {},
   "outputs": [
    {
     "name": "stdout",
     "output_type": "stream",
     "text": [
      "              precision    recall  f1-score   support\n",
      "\n",
      "           0       0.84      0.96      0.89      2356\n",
      "           1       0.68      0.32      0.43       644\n",
      "\n",
      "    accuracy                           0.82      3000\n",
      "   macro avg       0.76      0.64      0.66      3000\n",
      "weighted avg       0.80      0.82      0.79      3000\n",
      "\n",
      "[[2258   98]\n",
      " [ 439  205]]\n"
     ]
    }
   ],
   "source": [
    "print(classification_report(y_test, pred_SVC))\n",
    "print(confusion_matrix(y_test, pred_SVC))"
   ]
  },
  {
   "cell_type": "markdown",
   "metadata": {},
   "source": [
    "KNN - default"
   ]
  },
  {
   "cell_type": "code",
   "execution_count": 52,
   "metadata": {},
   "outputs": [
    {
     "name": "stdout",
     "output_type": "stream",
     "text": [
      "[0.80047619 0.7947619  0.80190476 0.78857143 0.78238095 0.80142857\n",
      " 0.79       0.79428571 0.79095238 0.79047619]\n"
     ]
    }
   ],
   "source": [
    "modelKNN = KNeighborsClassifier(n_neighbors=5)\n",
    "modelKNN.fit(X_train, y_train)\n",
    "print(cross_val_score(modelKNN, X_train, y_train, cv=10, scoring='accuracy'))"
   ]
  },
  {
   "cell_type": "code",
   "execution_count": 53,
   "metadata": {},
   "outputs": [
    {
     "data": {
      "text/plain": [
       "0.841047619047619"
      ]
     },
     "execution_count": 53,
     "metadata": {},
     "output_type": "execute_result"
    }
   ],
   "source": [
    "modelKNN.score(X_train, y_train)"
   ]
  },
  {
   "cell_type": "code",
   "execution_count": 54,
   "metadata": {},
   "outputs": [
    {
     "name": "stdout",
     "output_type": "stream",
     "text": [
      "              precision    recall  f1-score   support\n",
      "\n",
      "           0       0.83      0.92      0.87      7040\n",
      "           1       0.54      0.34      0.42      1960\n",
      "\n",
      "    accuracy                           0.79      9000\n",
      "   macro avg       0.69      0.63      0.65      9000\n",
      "weighted avg       0.77      0.79      0.78      9000\n",
      "\n",
      "[[6472  568]\n",
      " [1291  669]]\n"
     ]
    }
   ],
   "source": [
    "pred_KNN = modelKNN.predict(X_test)\n",
    "print(classification_report(y_test, pred_KNN))\n",
    "print(confusion_matrix(y_test, pred_KNN))"
   ]
  },
  {
   "cell_type": "code",
   "execution_count": 61,
   "metadata": {},
   "outputs": [
    {
     "name": "stdout",
     "output_type": "stream",
     "text": [
      "[0.77619048 0.77619048 0.77619048 0.77428571 0.7552381  0.78190476\n",
      " 0.78714286 0.78714286 0.75904762 0.76333333]\n"
     ]
    }
   ],
   "source": [
    "modelKNN2 = KNeighborsClassifier(n_neighbors=3)\n",
    "modelKNN2.fit(X_train, y_train)\n",
    "print(cross_val_score(modelKNN2, X_train, y_train, cv=10, scoring='accuracy'))"
   ]
  },
  {
   "cell_type": "code",
   "execution_count": 62,
   "metadata": {},
   "outputs": [
    {
     "data": {
      "text/plain": [
       "0.8645238095238095"
      ]
     },
     "execution_count": 62,
     "metadata": {},
     "output_type": "execute_result"
    }
   ],
   "source": [
    "modelKNN2.score(X_train, y_train)"
   ]
  },
  {
   "cell_type": "code",
   "execution_count": 63,
   "metadata": {},
   "outputs": [
    {
     "name": "stdout",
     "output_type": "stream",
     "text": [
      "              precision    recall  f1-score   support\n",
      "\n",
      "           0       0.83      0.89      0.86      7040\n",
      "           1       0.48      0.35      0.41      1960\n",
      "\n",
      "    accuracy                           0.78      9000\n",
      "   macro avg       0.66      0.62      0.63      9000\n",
      "weighted avg       0.76      0.78      0.76      9000\n",
      "\n",
      "[[6285  755]\n",
      " [1265  695]]\n"
     ]
    }
   ],
   "source": [
    "pred_KNN2 = modelKNN2.predict(X_test)\n",
    "print(classification_report(y_test, pred_KNN2))\n",
    "print(confusion_matrix(y_test, pred_KNN2))"
   ]
  },
  {
   "cell_type": "markdown",
   "metadata": {},
   "source": [
    "Random Forest w/ RFE"
   ]
  },
  {
   "cell_type": "code",
   "execution_count": 16,
   "metadata": {},
   "outputs": [
    {
     "name": "stdout",
     "output_type": "stream",
     "text": [
      "[0.81062554 0.80368624 0.80925847]\n"
     ]
    }
   ],
   "source": [
    "modelRF_RFE = RFECV(RandomForestClassifier(n_estimators=100), scoring='accuracy')\n",
    "modelRF_RFE.fit(X_train, y_train)\n",
    "print(cross_val_score(modelRF_RFE, X_train, y_train, cv=3))\n",
    "pred_RF_RFE = modelRF_RFE.predict(X_test)"
   ]
  },
  {
   "cell_type": "code",
   "execution_count": 17,
   "metadata": {},
   "outputs": [
    {
     "data": {
      "text/plain": [
       "0.9988571428571429"
      ]
     },
     "execution_count": 17,
     "metadata": {},
     "output_type": "execute_result"
    }
   ],
   "source": [
    "modelRF_RFE.score(X_train, y_train)"
   ]
  },
  {
   "cell_type": "code",
   "execution_count": 18,
   "metadata": {},
   "outputs": [
    {
     "name": "stdout",
     "output_type": "stream",
     "text": [
      "              precision    recall  f1-score   support\n",
      "\n",
      "           0       0.84      0.95      0.89      2355\n",
      "           1       0.65      0.35      0.45       645\n",
      "\n",
      "    accuracy                           0.82      3000\n",
      "   macro avg       0.74      0.65      0.67      3000\n",
      "weighted avg       0.80      0.82      0.80      3000\n",
      "\n",
      "[[2233  122]\n",
      " [ 422  223]]\n"
     ]
    }
   ],
   "source": [
    "print(classification_report(y_test, pred_RF_RFE))\n",
    "print(confusion_matrix(y_test, pred_RF_RFE))"
   ]
  },
  {
   "cell_type": "markdown",
   "metadata": {},
   "source": [
    "Gradient Boosting w/ RFE"
   ]
  },
  {
   "cell_type": "code",
   "execution_count": 59,
   "metadata": {},
   "outputs": [
    {
     "name": "stdout",
     "output_type": "stream",
     "text": [
      "[0.81285714 0.82428571 0.80642857 0.81785714 0.82428571]\n"
     ]
    },
    {
     "data": {
      "text/plain": [
       "0.8367142857142857"
      ]
     },
     "execution_count": 59,
     "metadata": {},
     "output_type": "execute_result"
    }
   ],
   "source": [
    "modelGB_RFE = RFECV(GradientBoostingClassifier(n_estimators=100, random_state=42), scoring='accuracy')\n",
    "modelGB_RFE.fit(X_train, y_train)\n",
    "print(cross_val_score(modelGB_RFE, X_train, y_train))\n",
    "modelGB_RFE.score(X_train, y_train)"
   ]
  },
  {
   "cell_type": "code",
   "execution_count": 60,
   "metadata": {},
   "outputs": [
    {
     "name": "stdout",
     "output_type": "stream",
     "text": [
      "              precision    recall  f1-score   support\n",
      "\n",
      "           0       0.84      0.95      0.89      2356\n",
      "           1       0.65      0.34      0.45       644\n",
      "\n",
      "    accuracy                           0.82      3000\n",
      "   macro avg       0.75      0.65      0.67      3000\n",
      "weighted avg       0.80      0.82      0.80      3000\n",
      "\n",
      "[[2236  120]\n",
      " [ 422  222]]\n"
     ]
    }
   ],
   "source": [
    "pred_GB_RFE = modelGB_RFE.predict(X_test)\n",
    "print(classification_report(y_test, pred_GB_RFE))\n",
    "print(confusion_matrix(y_test, pred_GB_RFE))"
   ]
  },
  {
   "cell_type": "markdown",
   "metadata": {},
   "source": [
    "SVC w/ RFE"
   ]
  },
  {
   "cell_type": "code",
   "execution_count": 88,
   "metadata": {},
   "outputs": [
    {
     "name": "stdout",
     "output_type": "stream",
     "text": [
      "[0.80142857 0.80071429 0.80214286 0.79857143 0.81857143]\n"
     ]
    },
    {
     "data": {
      "text/plain": [
       "0.8035714285714286"
      ]
     },
     "execution_count": 88,
     "metadata": {},
     "output_type": "execute_result"
    }
   ],
   "source": [
    "modelSVC_RFE = RFECV(SVC(kernel='linear'), scoring='accuracy')\n",
    "modelSVC_RFE.fit(X_train, y_train)\n",
    "print(cross_val_score(modelSVC_RFE, X_train, y_train))\n",
    "modelSVC_RFE.score(X_train, y_train)"
   ]
  },
  {
   "cell_type": "code",
   "execution_count": 89,
   "metadata": {
    "scrolled": false
   },
   "outputs": [
    {
     "name": "stdout",
     "output_type": "stream",
     "text": [
      "              precision    recall  f1-score   support\n",
      "\n",
      "           0       0.83      0.96      0.89      2356\n",
      "           1       0.66      0.28      0.40       644\n",
      "\n",
      "    accuracy                           0.81      3000\n",
      "   macro avg       0.75      0.62      0.64      3000\n",
      "weighted avg       0.79      0.81      0.78      3000\n",
      "\n",
      "[[2263   93]\n",
      " [ 462  182]]\n"
     ]
    }
   ],
   "source": [
    "pred_SVC_RFE = modelSVC_RFE.predict(X_test)\n",
    "print(classification_report(y_test, pred_SVC_RFE))\n",
    "print(confusion_matrix(y_test, pred_SVC_RFE))"
   ]
  },
  {
   "cell_type": "markdown",
   "metadata": {},
   "source": [
    "Random Forest w/ RFE tuning"
   ]
  },
  {
   "cell_type": "code",
   "execution_count": 45,
   "metadata": {},
   "outputs": [],
   "source": [
    "RFgrid = {'max_depth': [90,100,110], 'min_samples_leaf': [3,4], 'min_samples_split':[5,10], 'n_estimators': [100,200,300]}"
   ]
  },
  {
   "cell_type": "code",
   "execution_count": 46,
   "metadata": {
    "scrolled": false
   },
   "outputs": [
    {
     "data": {
      "text/plain": [
       "GridSearchCV(cv=3, error_score=nan,\n",
       "             estimator=RandomForestClassifier(bootstrap=True, ccp_alpha=0.0,\n",
       "                                              class_weight=None,\n",
       "                                              criterion='gini', max_depth=None,\n",
       "                                              max_features='auto',\n",
       "                                              max_leaf_nodes=None,\n",
       "                                              max_samples=None,\n",
       "                                              min_impurity_decrease=0.0,\n",
       "                                              min_impurity_split=None,\n",
       "                                              min_samples_leaf=1,\n",
       "                                              min_samples_split=2,\n",
       "                                              min_weight_fraction_leaf=0.0,\n",
       "                                              n_estimators=100, n_jobs=None,\n",
       "                                              oob_score=False,\n",
       "                                              random_state=None, verbose=0,\n",
       "                                              warm_start=False),\n",
       "             iid='deprecated', n_jobs=None,\n",
       "             param_grid={'max_depth': [90, 100, 110],\n",
       "                         'min_samples_leaf': [3, 4],\n",
       "                         'min_samples_split': [5, 10],\n",
       "                         'n_estimators': [100, 200, 300]},\n",
       "             pre_dispatch='2*n_jobs', refit=True, return_train_score=False,\n",
       "             scoring=None, verbose=0)"
      ]
     },
     "execution_count": 46,
     "metadata": {},
     "output_type": "execute_result"
    }
   ],
   "source": [
    "searchRF_RFE = GridSearchCV(modelRF, param_grid=RFgrid, cv=3)\n",
    "searchRF_RFE.fit(X_train, y_train)"
   ]
  },
  {
   "cell_type": "code",
   "execution_count": 47,
   "metadata": {},
   "outputs": [
    {
     "data": {
      "text/plain": [
       "{'max_depth': 110,\n",
       " 'min_samples_leaf': 4,\n",
       " 'min_samples_split': 5,\n",
       " 'n_estimators': 300}"
      ]
     },
     "execution_count": 47,
     "metadata": {},
     "output_type": "execute_result"
    }
   ],
   "source": [
    "searchRF_RFE.best_params_"
   ]
  },
  {
   "cell_type": "code",
   "execution_count": 48,
   "metadata": {},
   "outputs": [
    {
     "name": "stdout",
     "output_type": "stream",
     "text": [
      "[0.80848329 0.810973   0.81397342]\n"
     ]
    }
   ],
   "source": [
    "modelRF_RFEbest = RFECV(RandomForestClassifier(max_depth=110, min_samples_leaf=4, min_samples_split=5, n_estimators=300), scoring='accuracy')\n",
    "modelRF_RFEbest.fit(X_train, y_train)\n",
    "print(cross_val_score(modelRF_RFEbest, X_train, y_train, cv=3))\n",
    "pred_RF_RFEbest = modelRF_RFEbest.predict(X_test)"
   ]
  },
  {
   "cell_type": "code",
   "execution_count": 49,
   "metadata": {},
   "outputs": [
    {
     "data": {
      "text/plain": [
       "0.889"
      ]
     },
     "execution_count": 49,
     "metadata": {},
     "output_type": "execute_result"
    }
   ],
   "source": [
    "modelRF_RFEbest.score(X_train, y_train)"
   ]
  },
  {
   "cell_type": "code",
   "execution_count": 50,
   "metadata": {},
   "outputs": [
    {
     "name": "stdout",
     "output_type": "stream",
     "text": [
      "              precision    recall  f1-score   support\n",
      "\n",
      "           0       0.84      0.95      0.89      2355\n",
      "           1       0.66      0.35      0.45       645\n",
      "\n",
      "    accuracy                           0.82      3000\n",
      "   macro avg       0.75      0.65      0.67      3000\n",
      "weighted avg       0.80      0.82      0.80      3000\n",
      "\n",
      "[[2239  116]\n",
      " [ 421  224]]\n"
     ]
    }
   ],
   "source": [
    "print(classification_report(y_test, pred_RF_RFEbest))\n",
    "print(confusion_matrix(y_test, pred_RF_RFEbest))"
   ]
  },
  {
   "cell_type": "markdown",
   "metadata": {},
   "source": [
    "Gradient Boosting w/ RFE tuning"
   ]
  },
  {
   "cell_type": "code",
   "execution_count": 51,
   "metadata": {},
   "outputs": [],
   "source": [
    "GBgrid = {'learning_rate': [0.05, 0.1, 0.5, 1],'max_depth': [90,100,110], 'min_samples_leaf': [3,4],  'n_estimators': [100,200,300]}"
   ]
  },
  {
   "cell_type": "code",
   "execution_count": 55,
   "metadata": {},
   "outputs": [
    {
     "data": {
      "text/plain": [
       "GridSearchCV(cv=3, error_score=nan,\n",
       "             estimator=GradientBoostingClassifier(ccp_alpha=0.0,\n",
       "                                                  criterion='friedman_mse',\n",
       "                                                  init=None, learning_rate=0.1,\n",
       "                                                  loss='deviance', max_depth=3,\n",
       "                                                  max_features=None,\n",
       "                                                  max_leaf_nodes=None,\n",
       "                                                  min_impurity_decrease=0.0,\n",
       "                                                  min_impurity_split=None,\n",
       "                                                  min_samples_leaf=1,\n",
       "                                                  min_samples_split=2,\n",
       "                                                  min_weight_fraction_leaf=0.0,\n",
       "                                                  n_estimators=100,\n",
       "                                                  n_iter_no_c...\n",
       "                                                  presort='deprecated',\n",
       "                                                  random_state=42,\n",
       "                                                  subsample=1.0, tol=0.0001,\n",
       "                                                  validation_fraction=0.1,\n",
       "                                                  verbose=0, warm_start=False),\n",
       "             iid='deprecated', n_jobs=None,\n",
       "             param_grid={'learning_rate': [0.05, 0.1, 0.5, 1],\n",
       "                         'max_depth': [90, 100, 110],\n",
       "                         'min_samples_leaf': [3, 4],\n",
       "                         'n_estimators': [100, 200, 300]},\n",
       "             pre_dispatch='2*n_jobs', refit=True, return_train_score=False,\n",
       "             scoring=None, verbose=0)"
      ]
     },
     "execution_count": 55,
     "metadata": {},
     "output_type": "execute_result"
    }
   ],
   "source": [
    "searchGB_RFE = GridSearchCV(modelGB, param_grid=GBgrid, cv=3)\n",
    "searchGB_RFE.fit(X_train, y_train)"
   ]
  },
  {
   "cell_type": "code",
   "execution_count": 56,
   "metadata": {},
   "outputs": [
    {
     "data": {
      "text/plain": [
       "{'learning_rate': 0.1,\n",
       " 'max_depth': 90,\n",
       " 'min_samples_leaf': 3,\n",
       " 'n_estimators': 300}"
      ]
     },
     "execution_count": 56,
     "metadata": {},
     "output_type": "execute_result"
    }
   ],
   "source": [
    "searchGB_RFE.best_params_"
   ]
  },
  {
   "cell_type": "code",
   "execution_count": 57,
   "metadata": {},
   "outputs": [
    {
     "name": "stdout",
     "output_type": "stream",
     "text": [
      "[0.8        0.815      0.80214286 0.79714286 0.80642857]\n"
     ]
    },
    {
     "data": {
      "text/plain": [
       "0.9988571428571429"
      ]
     },
     "execution_count": 57,
     "metadata": {},
     "output_type": "execute_result"
    }
   ],
   "source": [
    "modelGB_RFEbest = RFECV(GradientBoostingClassifier(learning_rate=0.1, max_depth=90, min_samples_leaf=3, n_estimators=300, random_state=42), scoring='accuracy')\n",
    "modelGB_RFEbest.fit(X_train, y_train)\n",
    "print(cross_val_score(modelGB_RFEbest, X_train, y_train))\n",
    "modelGB_RFEbest.score(X_train, y_train)"
   ]
  },
  {
   "cell_type": "code",
   "execution_count": 60,
   "metadata": {},
   "outputs": [
    {
     "name": "stdout",
     "output_type": "stream",
     "text": [
      "              precision    recall  f1-score   support\n",
      "\n",
      "           0       0.84      0.93      0.88      2355\n",
      "           1       0.59      0.36      0.45       645\n",
      "\n",
      "    accuracy                           0.81      3000\n",
      "   macro avg       0.72      0.65      0.67      3000\n",
      "weighted avg       0.79      0.81      0.79      3000\n",
      "\n",
      "[[2194  161]\n",
      " [ 410  235]]\n"
     ]
    }
   ],
   "source": [
    "pred_GB_RFEbest = modelGB_RFEbest.predict(X_test)\n",
    "print(classification_report(y_test, pred_GB_RFEbest))\n",
    "print(confusion_matrix(y_test, pred_GB_RFEbest))"
   ]
  },
  {
   "cell_type": "markdown",
   "metadata": {},
   "source": [
    "SVC w/ RFE tuning"
   ]
  },
  {
   "cell_type": "code",
   "execution_count": 16,
   "metadata": {},
   "outputs": [
    {
     "data": {
      "text/plain": [
       "GridSearchCV(cv=3, error_score=nan,\n",
       "             estimator=SVC(C=1.0, break_ties=False, cache_size=200,\n",
       "                           class_weight='balanced', coef0=0.0,\n",
       "                           decision_function_shape='ovr', degree=3,\n",
       "                           gamma='scale', kernel='rbf', max_iter=-1,\n",
       "                           probability=False, random_state=42, shrinking=True,\n",
       "                           tol=0.001, verbose=False),\n",
       "             iid='deprecated', n_jobs=None, param_grid={'C': [0.1, 1, 10]},\n",
       "             pre_dispatch='2*n_jobs', refit=True, return_train_score=False,\n",
       "             scoring='accuracy', verbose=0)"
      ]
     },
     "execution_count": 16,
     "metadata": {},
     "output_type": "execute_result"
    }
   ],
   "source": [
    "modelSVC2 = SVC(kernel = 'rbf', class_weight='balanced', random_state = 42)\n",
    "grid = {'C': [0.1,1,10]}\n",
    "gridsearch = GridSearchCV(modelSVC2, param_grid=grid, scoring='accuracy', refit=True, cv=3)\n",
    "gridsearch.fit(X_train, y_train)"
   ]
  },
  {
   "cell_type": "code",
   "execution_count": 18,
   "metadata": {},
   "outputs": [
    {
     "data": {
      "text/plain": [
       "{'C': 0.1}"
      ]
     },
     "execution_count": 18,
     "metadata": {},
     "output_type": "execute_result"
    }
   ],
   "source": [
    "gridsearch.best_params_"
   ]
  },
  {
   "cell_type": "code",
   "execution_count": 62,
   "metadata": {},
   "outputs": [
    {
     "name": "stdout",
     "output_type": "stream",
     "text": [
      "[0.80891174 0.80282898 0.80368624]\n"
     ]
    },
    {
     "data": {
      "text/plain": [
       "0.8044285714285714"
      ]
     },
     "execution_count": 62,
     "metadata": {},
     "output_type": "execute_result"
    }
   ],
   "source": [
    "modelSVC_RFEbest = RFECV(SVC(kernel='linear', C=0.1), scoring='accuracy')\n",
    "modelSVC_RFEbest.fit(X_train, y_train)\n",
    "print(cross_val_score(modelSVC_RFEbest, X_train, y_train, cv=3))\n",
    "modelSVC_RFEbest.score(X_train, y_train)"
   ]
  },
  {
   "cell_type": "code",
   "execution_count": 63,
   "metadata": {},
   "outputs": [
    {
     "name": "stdout",
     "output_type": "stream",
     "text": [
      "              precision    recall  f1-score   support\n",
      "\n",
      "           0       0.83      0.96      0.89      2355\n",
      "           1       0.65      0.27      0.38       645\n",
      "\n",
      "    accuracy                           0.81      3000\n",
      "   macro avg       0.74      0.61      0.63      3000\n",
      "weighted avg       0.79      0.81      0.78      3000\n",
      "\n",
      "[[2264   91]\n",
      " [ 474  171]]\n"
     ]
    }
   ],
   "source": [
    "pred_SVC_RFEbest = modelSVC_RFEbest.predict(X_test)\n",
    "print(classification_report(y_test, pred_SVC_RFEbest))\n",
    "print(confusion_matrix(y_test, pred_SVC_RFEbest))"
   ]
  }
 ],
 "metadata": {
  "kernelspec": {
   "display_name": "Python 3",
   "language": "python",
   "name": "python3"
  }
 },
 "nbformat": 4,
 "nbformat_minor": 2
}
