{
 "cells": [
  {
   "cell_type": "code",
   "execution_count": 54,
   "metadata": {},
   "outputs": [],
   "source": [
    "import numpy as np\n",
    "import pandas as pd\n",
    "import matplotlib.pyplot as plt\n",
    "import seaborn as sns"
   ]
  },
  {
   "cell_type": "code",
   "execution_count": 2,
   "metadata": {},
   "outputs": [],
   "source": [
    "credit = pd.read_csv('default of credit card clients.csv', header =1)"
   ]
  },
  {
   "cell_type": "code",
   "execution_count": 3,
   "metadata": {
    "scrolled": false
   },
   "outputs": [
    {
     "data": {
      "text/html": [
       "<div>\n",
       "<style scoped>\n",
       "    .dataframe tbody tr th:only-of-type {\n",
       "        vertical-align: middle;\n",
       "    }\n",
       "\n",
       "    .dataframe tbody tr th {\n",
       "        vertical-align: top;\n",
       "    }\n",
       "\n",
       "    .dataframe thead th {\n",
       "        text-align: right;\n",
       "    }\n",
       "</style>\n",
       "<table border=\"1\" class=\"dataframe\">\n",
       "  <thead>\n",
       "    <tr style=\"text-align: right;\">\n",
       "      <th></th>\n",
       "      <th>ID</th>\n",
       "      <th>LIMIT_BAL</th>\n",
       "      <th>SEX</th>\n",
       "      <th>EDUCATION</th>\n",
       "      <th>MARRIAGE</th>\n",
       "      <th>AGE</th>\n",
       "      <th>PAY_0</th>\n",
       "      <th>PAY_2</th>\n",
       "      <th>PAY_3</th>\n",
       "      <th>PAY_4</th>\n",
       "      <th>...</th>\n",
       "      <th>BILL_AMT4</th>\n",
       "      <th>BILL_AMT5</th>\n",
       "      <th>BILL_AMT6</th>\n",
       "      <th>PAY_AMT1</th>\n",
       "      <th>PAY_AMT2</th>\n",
       "      <th>PAY_AMT3</th>\n",
       "      <th>PAY_AMT4</th>\n",
       "      <th>PAY_AMT5</th>\n",
       "      <th>PAY_AMT6</th>\n",
       "      <th>default payment next month</th>\n",
       "    </tr>\n",
       "  </thead>\n",
       "  <tbody>\n",
       "    <tr>\n",
       "      <td>0</td>\n",
       "      <td>1</td>\n",
       "      <td>20000</td>\n",
       "      <td>2</td>\n",
       "      <td>2</td>\n",
       "      <td>1</td>\n",
       "      <td>24</td>\n",
       "      <td>2</td>\n",
       "      <td>2</td>\n",
       "      <td>-1</td>\n",
       "      <td>-1</td>\n",
       "      <td>...</td>\n",
       "      <td>0</td>\n",
       "      <td>0</td>\n",
       "      <td>0</td>\n",
       "      <td>0</td>\n",
       "      <td>689</td>\n",
       "      <td>0</td>\n",
       "      <td>0</td>\n",
       "      <td>0</td>\n",
       "      <td>0</td>\n",
       "      <td>1</td>\n",
       "    </tr>\n",
       "    <tr>\n",
       "      <td>1</td>\n",
       "      <td>2</td>\n",
       "      <td>120000</td>\n",
       "      <td>2</td>\n",
       "      <td>2</td>\n",
       "      <td>2</td>\n",
       "      <td>26</td>\n",
       "      <td>-1</td>\n",
       "      <td>2</td>\n",
       "      <td>0</td>\n",
       "      <td>0</td>\n",
       "      <td>...</td>\n",
       "      <td>3272</td>\n",
       "      <td>3455</td>\n",
       "      <td>3261</td>\n",
       "      <td>0</td>\n",
       "      <td>1000</td>\n",
       "      <td>1000</td>\n",
       "      <td>1000</td>\n",
       "      <td>0</td>\n",
       "      <td>2000</td>\n",
       "      <td>1</td>\n",
       "    </tr>\n",
       "    <tr>\n",
       "      <td>2</td>\n",
       "      <td>3</td>\n",
       "      <td>90000</td>\n",
       "      <td>2</td>\n",
       "      <td>2</td>\n",
       "      <td>2</td>\n",
       "      <td>34</td>\n",
       "      <td>0</td>\n",
       "      <td>0</td>\n",
       "      <td>0</td>\n",
       "      <td>0</td>\n",
       "      <td>...</td>\n",
       "      <td>14331</td>\n",
       "      <td>14948</td>\n",
       "      <td>15549</td>\n",
       "      <td>1518</td>\n",
       "      <td>1500</td>\n",
       "      <td>1000</td>\n",
       "      <td>1000</td>\n",
       "      <td>1000</td>\n",
       "      <td>5000</td>\n",
       "      <td>0</td>\n",
       "    </tr>\n",
       "    <tr>\n",
       "      <td>3</td>\n",
       "      <td>4</td>\n",
       "      <td>50000</td>\n",
       "      <td>2</td>\n",
       "      <td>2</td>\n",
       "      <td>1</td>\n",
       "      <td>37</td>\n",
       "      <td>0</td>\n",
       "      <td>0</td>\n",
       "      <td>0</td>\n",
       "      <td>0</td>\n",
       "      <td>...</td>\n",
       "      <td>28314</td>\n",
       "      <td>28959</td>\n",
       "      <td>29547</td>\n",
       "      <td>2000</td>\n",
       "      <td>2019</td>\n",
       "      <td>1200</td>\n",
       "      <td>1100</td>\n",
       "      <td>1069</td>\n",
       "      <td>1000</td>\n",
       "      <td>0</td>\n",
       "    </tr>\n",
       "    <tr>\n",
       "      <td>4</td>\n",
       "      <td>5</td>\n",
       "      <td>50000</td>\n",
       "      <td>1</td>\n",
       "      <td>2</td>\n",
       "      <td>1</td>\n",
       "      <td>57</td>\n",
       "      <td>-1</td>\n",
       "      <td>0</td>\n",
       "      <td>-1</td>\n",
       "      <td>0</td>\n",
       "      <td>...</td>\n",
       "      <td>20940</td>\n",
       "      <td>19146</td>\n",
       "      <td>19131</td>\n",
       "      <td>2000</td>\n",
       "      <td>36681</td>\n",
       "      <td>10000</td>\n",
       "      <td>9000</td>\n",
       "      <td>689</td>\n",
       "      <td>679</td>\n",
       "      <td>0</td>\n",
       "    </tr>\n",
       "  </tbody>\n",
       "</table>\n",
       "<p>5 rows × 25 columns</p>\n",
       "</div>"
      ],
      "text/plain": [
       "   ID  LIMIT_BAL  SEX  EDUCATION  MARRIAGE  AGE  PAY_0  PAY_2  PAY_3  PAY_4  \\\n",
       "0   1      20000    2          2         1   24      2      2     -1     -1   \n",
       "1   2     120000    2          2         2   26     -1      2      0      0   \n",
       "2   3      90000    2          2         2   34      0      0      0      0   \n",
       "3   4      50000    2          2         1   37      0      0      0      0   \n",
       "4   5      50000    1          2         1   57     -1      0     -1      0   \n",
       "\n",
       "   ...  BILL_AMT4  BILL_AMT5  BILL_AMT6  PAY_AMT1  PAY_AMT2  PAY_AMT3  \\\n",
       "0  ...          0          0          0         0       689         0   \n",
       "1  ...       3272       3455       3261         0      1000      1000   \n",
       "2  ...      14331      14948      15549      1518      1500      1000   \n",
       "3  ...      28314      28959      29547      2000      2019      1200   \n",
       "4  ...      20940      19146      19131      2000     36681     10000   \n",
       "\n",
       "   PAY_AMT4  PAY_AMT5  PAY_AMT6  default payment next month  \n",
       "0         0         0         0                           1  \n",
       "1      1000         0      2000                           1  \n",
       "2      1000      1000      5000                           0  \n",
       "3      1100      1069      1000                           0  \n",
       "4      9000       689       679                           0  \n",
       "\n",
       "[5 rows x 25 columns]"
      ]
     },
     "execution_count": 3,
     "metadata": {},
     "output_type": "execute_result"
    }
   ],
   "source": [
    "credit.head()"
   ]
  },
  {
   "cell_type": "code",
   "execution_count": 10,
   "metadata": {},
   "outputs": [
    {
     "data": {
      "text/html": [
       "<div>\n",
       "<style scoped>\n",
       "    .dataframe tbody tr th:only-of-type {\n",
       "        vertical-align: middle;\n",
       "    }\n",
       "\n",
       "    .dataframe tbody tr th {\n",
       "        vertical-align: top;\n",
       "    }\n",
       "\n",
       "    .dataframe thead th {\n",
       "        text-align: right;\n",
       "    }\n",
       "</style>\n",
       "<table border=\"1\" class=\"dataframe\">\n",
       "  <thead>\n",
       "    <tr style=\"text-align: right;\">\n",
       "      <th></th>\n",
       "      <th>LIMIT_BAL</th>\n",
       "      <th>SEX</th>\n",
       "      <th>EDUCATION</th>\n",
       "      <th>MARRIAGE</th>\n",
       "      <th>AGE</th>\n",
       "      <th>PAY_1</th>\n",
       "      <th>PAY_2</th>\n",
       "      <th>PAY_3</th>\n",
       "      <th>PAY_4</th>\n",
       "      <th>PAY_5</th>\n",
       "      <th>...</th>\n",
       "      <th>BILL_AMT4</th>\n",
       "      <th>BILL_AMT5</th>\n",
       "      <th>BILL_AMT6</th>\n",
       "      <th>PAY_AMT1</th>\n",
       "      <th>PAY_AMT2</th>\n",
       "      <th>PAY_AMT3</th>\n",
       "      <th>PAY_AMT4</th>\n",
       "      <th>PAY_AMT5</th>\n",
       "      <th>PAY_AMT6</th>\n",
       "      <th>default payment next month</th>\n",
       "    </tr>\n",
       "  </thead>\n",
       "  <tbody>\n",
       "    <tr>\n",
       "      <td>count</td>\n",
       "      <td>30000.000000</td>\n",
       "      <td>30000.000000</td>\n",
       "      <td>30000.000000</td>\n",
       "      <td>30000.000000</td>\n",
       "      <td>30000.000000</td>\n",
       "      <td>30000.000000</td>\n",
       "      <td>30000.000000</td>\n",
       "      <td>30000.000000</td>\n",
       "      <td>30000.000000</td>\n",
       "      <td>30000.000000</td>\n",
       "      <td>...</td>\n",
       "      <td>30000.000000</td>\n",
       "      <td>30000.000000</td>\n",
       "      <td>30000.000000</td>\n",
       "      <td>30000.000000</td>\n",
       "      <td>3.000000e+04</td>\n",
       "      <td>30000.00000</td>\n",
       "      <td>30000.000000</td>\n",
       "      <td>30000.000000</td>\n",
       "      <td>30000.000000</td>\n",
       "      <td>30000.000000</td>\n",
       "    </tr>\n",
       "    <tr>\n",
       "      <td>mean</td>\n",
       "      <td>167484.322667</td>\n",
       "      <td>1.603733</td>\n",
       "      <td>1.853133</td>\n",
       "      <td>1.551867</td>\n",
       "      <td>35.485500</td>\n",
       "      <td>-0.016700</td>\n",
       "      <td>-0.133767</td>\n",
       "      <td>-0.166200</td>\n",
       "      <td>-0.220667</td>\n",
       "      <td>-0.266200</td>\n",
       "      <td>...</td>\n",
       "      <td>43262.948967</td>\n",
       "      <td>40311.400967</td>\n",
       "      <td>38871.760400</td>\n",
       "      <td>5663.580500</td>\n",
       "      <td>5.921163e+03</td>\n",
       "      <td>5225.68150</td>\n",
       "      <td>4826.076867</td>\n",
       "      <td>4799.387633</td>\n",
       "      <td>5215.502567</td>\n",
       "      <td>0.221200</td>\n",
       "    </tr>\n",
       "    <tr>\n",
       "      <td>std</td>\n",
       "      <td>129747.661567</td>\n",
       "      <td>0.489129</td>\n",
       "      <td>0.790349</td>\n",
       "      <td>0.521970</td>\n",
       "      <td>9.217904</td>\n",
       "      <td>1.123802</td>\n",
       "      <td>1.197186</td>\n",
       "      <td>1.196868</td>\n",
       "      <td>1.169139</td>\n",
       "      <td>1.133187</td>\n",
       "      <td>...</td>\n",
       "      <td>64332.856134</td>\n",
       "      <td>60797.155770</td>\n",
       "      <td>59554.107537</td>\n",
       "      <td>16563.280354</td>\n",
       "      <td>2.304087e+04</td>\n",
       "      <td>17606.96147</td>\n",
       "      <td>15666.159744</td>\n",
       "      <td>15278.305679</td>\n",
       "      <td>17777.465775</td>\n",
       "      <td>0.415062</td>\n",
       "    </tr>\n",
       "    <tr>\n",
       "      <td>min</td>\n",
       "      <td>10000.000000</td>\n",
       "      <td>1.000000</td>\n",
       "      <td>0.000000</td>\n",
       "      <td>0.000000</td>\n",
       "      <td>21.000000</td>\n",
       "      <td>-2.000000</td>\n",
       "      <td>-2.000000</td>\n",
       "      <td>-2.000000</td>\n",
       "      <td>-2.000000</td>\n",
       "      <td>-2.000000</td>\n",
       "      <td>...</td>\n",
       "      <td>-170000.000000</td>\n",
       "      <td>-81334.000000</td>\n",
       "      <td>-339603.000000</td>\n",
       "      <td>0.000000</td>\n",
       "      <td>0.000000e+00</td>\n",
       "      <td>0.00000</td>\n",
       "      <td>0.000000</td>\n",
       "      <td>0.000000</td>\n",
       "      <td>0.000000</td>\n",
       "      <td>0.000000</td>\n",
       "    </tr>\n",
       "    <tr>\n",
       "      <td>25%</td>\n",
       "      <td>50000.000000</td>\n",
       "      <td>1.000000</td>\n",
       "      <td>1.000000</td>\n",
       "      <td>1.000000</td>\n",
       "      <td>28.000000</td>\n",
       "      <td>-1.000000</td>\n",
       "      <td>-1.000000</td>\n",
       "      <td>-1.000000</td>\n",
       "      <td>-1.000000</td>\n",
       "      <td>-1.000000</td>\n",
       "      <td>...</td>\n",
       "      <td>2326.750000</td>\n",
       "      <td>1763.000000</td>\n",
       "      <td>1256.000000</td>\n",
       "      <td>1000.000000</td>\n",
       "      <td>8.330000e+02</td>\n",
       "      <td>390.00000</td>\n",
       "      <td>296.000000</td>\n",
       "      <td>252.500000</td>\n",
       "      <td>117.750000</td>\n",
       "      <td>0.000000</td>\n",
       "    </tr>\n",
       "    <tr>\n",
       "      <td>50%</td>\n",
       "      <td>140000.000000</td>\n",
       "      <td>2.000000</td>\n",
       "      <td>2.000000</td>\n",
       "      <td>2.000000</td>\n",
       "      <td>34.000000</td>\n",
       "      <td>0.000000</td>\n",
       "      <td>0.000000</td>\n",
       "      <td>0.000000</td>\n",
       "      <td>0.000000</td>\n",
       "      <td>0.000000</td>\n",
       "      <td>...</td>\n",
       "      <td>19052.000000</td>\n",
       "      <td>18104.500000</td>\n",
       "      <td>17071.000000</td>\n",
       "      <td>2100.000000</td>\n",
       "      <td>2.009000e+03</td>\n",
       "      <td>1800.00000</td>\n",
       "      <td>1500.000000</td>\n",
       "      <td>1500.000000</td>\n",
       "      <td>1500.000000</td>\n",
       "      <td>0.000000</td>\n",
       "    </tr>\n",
       "    <tr>\n",
       "      <td>75%</td>\n",
       "      <td>240000.000000</td>\n",
       "      <td>2.000000</td>\n",
       "      <td>2.000000</td>\n",
       "      <td>2.000000</td>\n",
       "      <td>41.000000</td>\n",
       "      <td>0.000000</td>\n",
       "      <td>0.000000</td>\n",
       "      <td>0.000000</td>\n",
       "      <td>0.000000</td>\n",
       "      <td>0.000000</td>\n",
       "      <td>...</td>\n",
       "      <td>54506.000000</td>\n",
       "      <td>50190.500000</td>\n",
       "      <td>49198.250000</td>\n",
       "      <td>5006.000000</td>\n",
       "      <td>5.000000e+03</td>\n",
       "      <td>4505.00000</td>\n",
       "      <td>4013.250000</td>\n",
       "      <td>4031.500000</td>\n",
       "      <td>4000.000000</td>\n",
       "      <td>0.000000</td>\n",
       "    </tr>\n",
       "    <tr>\n",
       "      <td>max</td>\n",
       "      <td>1000000.000000</td>\n",
       "      <td>2.000000</td>\n",
       "      <td>6.000000</td>\n",
       "      <td>3.000000</td>\n",
       "      <td>79.000000</td>\n",
       "      <td>8.000000</td>\n",
       "      <td>8.000000</td>\n",
       "      <td>8.000000</td>\n",
       "      <td>8.000000</td>\n",
       "      <td>8.000000</td>\n",
       "      <td>...</td>\n",
       "      <td>891586.000000</td>\n",
       "      <td>927171.000000</td>\n",
       "      <td>961664.000000</td>\n",
       "      <td>873552.000000</td>\n",
       "      <td>1.684259e+06</td>\n",
       "      <td>896040.00000</td>\n",
       "      <td>621000.000000</td>\n",
       "      <td>426529.000000</td>\n",
       "      <td>528666.000000</td>\n",
       "      <td>1.000000</td>\n",
       "    </tr>\n",
       "  </tbody>\n",
       "</table>\n",
       "<p>8 rows × 24 columns</p>\n",
       "</div>"
      ],
      "text/plain": [
       "            LIMIT_BAL           SEX     EDUCATION      MARRIAGE           AGE  \\\n",
       "count    30000.000000  30000.000000  30000.000000  30000.000000  30000.000000   \n",
       "mean    167484.322667      1.603733      1.853133      1.551867     35.485500   \n",
       "std     129747.661567      0.489129      0.790349      0.521970      9.217904   \n",
       "min      10000.000000      1.000000      0.000000      0.000000     21.000000   \n",
       "25%      50000.000000      1.000000      1.000000      1.000000     28.000000   \n",
       "50%     140000.000000      2.000000      2.000000      2.000000     34.000000   \n",
       "75%     240000.000000      2.000000      2.000000      2.000000     41.000000   \n",
       "max    1000000.000000      2.000000      6.000000      3.000000     79.000000   \n",
       "\n",
       "              PAY_1         PAY_2         PAY_3         PAY_4         PAY_5  \\\n",
       "count  30000.000000  30000.000000  30000.000000  30000.000000  30000.000000   \n",
       "mean      -0.016700     -0.133767     -0.166200     -0.220667     -0.266200   \n",
       "std        1.123802      1.197186      1.196868      1.169139      1.133187   \n",
       "min       -2.000000     -2.000000     -2.000000     -2.000000     -2.000000   \n",
       "25%       -1.000000     -1.000000     -1.000000     -1.000000     -1.000000   \n",
       "50%        0.000000      0.000000      0.000000      0.000000      0.000000   \n",
       "75%        0.000000      0.000000      0.000000      0.000000      0.000000   \n",
       "max        8.000000      8.000000      8.000000      8.000000      8.000000   \n",
       "\n",
       "       ...      BILL_AMT4      BILL_AMT5      BILL_AMT6       PAY_AMT1  \\\n",
       "count  ...   30000.000000   30000.000000   30000.000000   30000.000000   \n",
       "mean   ...   43262.948967   40311.400967   38871.760400    5663.580500   \n",
       "std    ...   64332.856134   60797.155770   59554.107537   16563.280354   \n",
       "min    ... -170000.000000  -81334.000000 -339603.000000       0.000000   \n",
       "25%    ...    2326.750000    1763.000000    1256.000000    1000.000000   \n",
       "50%    ...   19052.000000   18104.500000   17071.000000    2100.000000   \n",
       "75%    ...   54506.000000   50190.500000   49198.250000    5006.000000   \n",
       "max    ...  891586.000000  927171.000000  961664.000000  873552.000000   \n",
       "\n",
       "           PAY_AMT2      PAY_AMT3       PAY_AMT4       PAY_AMT5  \\\n",
       "count  3.000000e+04   30000.00000   30000.000000   30000.000000   \n",
       "mean   5.921163e+03    5225.68150    4826.076867    4799.387633   \n",
       "std    2.304087e+04   17606.96147   15666.159744   15278.305679   \n",
       "min    0.000000e+00       0.00000       0.000000       0.000000   \n",
       "25%    8.330000e+02     390.00000     296.000000     252.500000   \n",
       "50%    2.009000e+03    1800.00000    1500.000000    1500.000000   \n",
       "75%    5.000000e+03    4505.00000    4013.250000    4031.500000   \n",
       "max    1.684259e+06  896040.00000  621000.000000  426529.000000   \n",
       "\n",
       "            PAY_AMT6  default payment next month  \n",
       "count   30000.000000                30000.000000  \n",
       "mean     5215.502567                    0.221200  \n",
       "std     17777.465775                    0.415062  \n",
       "min         0.000000                    0.000000  \n",
       "25%       117.750000                    0.000000  \n",
       "50%      1500.000000                    0.000000  \n",
       "75%      4000.000000                    0.000000  \n",
       "max    528666.000000                    1.000000  \n",
       "\n",
       "[8 rows x 24 columns]"
      ]
     },
     "execution_count": 10,
     "metadata": {},
     "output_type": "execute_result"
    }
   ],
   "source": [
    "credit.describe()"
   ]
  },
  {
   "cell_type": "code",
   "execution_count": 11,
   "metadata": {},
   "outputs": [
    {
     "name": "stdout",
     "output_type": "stream",
     "text": [
      "<class 'pandas.core.frame.DataFrame'>\n",
      "RangeIndex: 30000 entries, 0 to 29999\n",
      "Data columns (total 24 columns):\n",
      "LIMIT_BAL                     30000 non-null int64\n",
      "SEX                           30000 non-null int64\n",
      "EDUCATION                     30000 non-null int64\n",
      "MARRIAGE                      30000 non-null int64\n",
      "AGE                           30000 non-null int64\n",
      "PAY_1                         30000 non-null int64\n",
      "PAY_2                         30000 non-null int64\n",
      "PAY_3                         30000 non-null int64\n",
      "PAY_4                         30000 non-null int64\n",
      "PAY_5                         30000 non-null int64\n",
      "PAY_6                         30000 non-null int64\n",
      "BILL_AMT1                     30000 non-null int64\n",
      "BILL_AMT2                     30000 non-null int64\n",
      "BILL_AMT3                     30000 non-null int64\n",
      "BILL_AMT4                     30000 non-null int64\n",
      "BILL_AMT5                     30000 non-null int64\n",
      "BILL_AMT6                     30000 non-null int64\n",
      "PAY_AMT1                      30000 non-null int64\n",
      "PAY_AMT2                      30000 non-null int64\n",
      "PAY_AMT3                      30000 non-null int64\n",
      "PAY_AMT4                      30000 non-null int64\n",
      "PAY_AMT5                      30000 non-null int64\n",
      "PAY_AMT6                      30000 non-null int64\n",
      "default payment next month    30000 non-null int64\n",
      "dtypes: int64(24)\n",
      "memory usage: 5.5 MB\n"
     ]
    }
   ],
   "source": [
    "credit.info()"
   ]
  },
  {
   "cell_type": "code",
   "execution_count": 6,
   "metadata": {},
   "outputs": [],
   "source": [
    "credit = credit.drop(\"ID\", axis=1)"
   ]
  },
  {
   "cell_type": "code",
   "execution_count": 47,
   "metadata": {},
   "outputs": [],
   "source": [
    "credit = credit.rename(columns={\"PAY_0\": \"PAY_1\"})\n",
    "credit = credit.rename(columns={\"default payment next month\": \"default\"})"
   ]
  },
  {
   "cell_type": "code",
   "execution_count": 48,
   "metadata": {},
   "outputs": [],
   "source": [
    "credit.to_csv(\"default of credit cleaned.csv\", index=False, encoding='utf8')"
   ]
  },
  {
   "cell_type": "code",
   "execution_count": 49,
   "metadata": {},
   "outputs": [],
   "source": [
    "ccredit = pd.read_csv('default of credit cleaned.csv', header =0)"
   ]
  },
  {
   "cell_type": "code",
   "execution_count": 50,
   "metadata": {},
   "outputs": [
    {
     "name": "stdout",
     "output_type": "stream",
     "text": [
      "Index(['LIMIT_BAL', 'SEX', 'EDUCATION', 'MARRIAGE', 'AGE', 'PAY_1', 'PAY_2',\n",
      "       'PAY_3', 'PAY_4', 'PAY_5', 'PAY_6', 'BILL_AMT1', 'BILL_AMT2',\n",
      "       'BILL_AMT3', 'BILL_AMT4', 'BILL_AMT5', 'BILL_AMT6', 'PAY_AMT1',\n",
      "       'PAY_AMT2', 'PAY_AMT3', 'PAY_AMT4', 'PAY_AMT5', 'PAY_AMT6', 'default'],\n",
      "      dtype='object')\n"
     ]
    }
   ],
   "source": [
    "header = ccredit.dtypes.index\n",
    "print(header)"
   ]
  },
  {
   "cell_type": "code",
   "execution_count": 51,
   "metadata": {},
   "outputs": [
    {
     "data": {
      "text/plain": [
       "Text(0.5, 0, 'Limit Balance')"
      ]
     },
     "execution_count": 51,
     "metadata": {},
     "output_type": "execute_result"
    },
    {
     "data": {
      "image/png": "[encoded data removed]",
      "text/plain": [
       "<Figure size 432x288 with 1 Axes>"
      ]
     },
     "metadata": {
      "needs_background": "light"
     },
     "output_type": "display_data"
    }
   ],
   "source": [
    "plt.hist(ccredit['LIMIT_BAL'], bins=4)\n",
    "plt.xlabel('Limit Balance')"
   ]
  },
  {
   "cell_type": "code",
   "execution_count": 31,
   "metadata": {},
   "outputs": [
    {
     "data": {
      "text/plain": [
       "Text(0, 0.5, 'Limit Balance')"
      ]
     },
     "execution_count": 31,
     "metadata": {},
     "output_type": "execute_result"
    },
    {
     "data": {
      "image/png": "[encoded data removed]",
      "text/plain": [
       "<Figure size 432x288 with 1 Axes>"
      ]
     },
     "metadata": {
      "needs_background": "light"
     },
     "output_type": "display_data"
    }
   ],
   "source": [
    "plt.plot(ccredit['LIMIT_BAL'])\n",
    "plt.ylabel(\"Limit Balance\")"
   ]
  },
  {
   "cell_type": "code",
   "execution_count": 33,
   "metadata": {},
   "outputs": [
    {
     "data": {
      "image/png": "[encoded data removed]",
      "text/plain": [
       "<Figure size 432x288 with 1 Axes>"
      ]
     },
     "metadata": {
      "needs_background": "light"
     },
     "output_type": "display_data"
    }
   ],
   "source": [
    "x = ccredit['PAY_1']\n",
    "y = ccredit['PAY_2']\n",
    "plt.scatter(x,y)\n",
    "plt.show()"
   ]
  },
  {
   "cell_type": "code",
   "execution_count": 90,
   "metadata": {},
   "outputs": [
    {
     "data": {
      "image/png": "[encoded data removed]",
      "text/plain": [
       "<Figure size 432x288 with 1 Axes>"
      ]
     },
     "metadata": {
      "needs_background": "light"
     },
     "output_type": "display_data"
    }
   ],
   "source": [
    "A = credit['LIMIT_BAL']\n",
    "plt.boxplot(A, 0, 'gD')\n",
    "plt.show()"
   ]
  },
  {
   "cell_type": "code",
   "execution_count": 36,
   "metadata": {},
   "outputs": [
    {
     "name": "stdout",
     "output_type": "stream",
     "text": [
      "                            LIMIT_BAL       SEX  EDUCATION  MARRIAGE  \\\n",
      "LIMIT_BAL                    1.000000  0.024755  -0.219161 -0.108139   \n",
      "SEX                          0.024755  1.000000   0.014232 -0.031389   \n",
      "EDUCATION                   -0.219161  0.014232   1.000000 -0.143464   \n",
      "MARRIAGE                    -0.108139 -0.031389  -0.143464  1.000000   \n",
      "AGE                          0.144713 -0.090874   0.175061 -0.414170   \n",
      "PAY_1                       -0.271214 -0.057643   0.105364  0.019917   \n",
      "PAY_2                       -0.296382 -0.070771   0.121566  0.024199   \n",
      "PAY_3                       -0.286123 -0.066096   0.114025  0.032688   \n",
      "PAY_4                       -0.267460 -0.060173   0.108793  0.033122   \n",
      "PAY_5                       -0.249411 -0.055064   0.097520  0.035629   \n",
      "PAY_6                       -0.235195 -0.044008   0.082316  0.034345   \n",
      "BILL_AMT1                    0.285430 -0.033642   0.023581 -0.023472   \n",
      "BILL_AMT2                    0.278314 -0.031183   0.018749 -0.021602   \n",
      "BILL_AMT3                    0.283236 -0.024563   0.013002 -0.024909   \n",
      "BILL_AMT4                    0.293988 -0.021880  -0.000451 -0.023344   \n",
      "BILL_AMT5                    0.295562 -0.017005  -0.007567 -0.025393   \n",
      "BILL_AMT6                    0.290389 -0.016733  -0.009099 -0.021207   \n",
      "PAY_AMT1                     0.195236 -0.000242  -0.037456 -0.005979   \n",
      "PAY_AMT2                     0.178408 -0.001391  -0.030038 -0.008093   \n",
      "PAY_AMT3                     0.210167 -0.008597  -0.039943 -0.003541   \n",
      "PAY_AMT4                     0.203242 -0.002229  -0.038218 -0.012659   \n",
      "PAY_AMT5                     0.217202 -0.001667  -0.040358 -0.001205   \n",
      "PAY_AMT6                     0.219595 -0.002766  -0.037200 -0.006641   \n",
      "default payment next month  -0.153520 -0.039961   0.028006 -0.024339   \n",
      "\n",
      "                                 AGE     PAY_1     PAY_2     PAY_3     PAY_4  \\\n",
      "LIMIT_BAL                   0.144713 -0.271214 -0.296382 -0.286123 -0.267460   \n",
      "SEX                        -0.090874 -0.057643 -0.070771 -0.066096 -0.060173   \n",
      "EDUCATION                   0.175061  0.105364  0.121566  0.114025  0.108793   \n",
      "MARRIAGE                   -0.414170  0.019917  0.024199  0.032688  0.033122   \n",
      "AGE                         1.000000 -0.039447 -0.050148 -0.053048 -0.049722   \n",
      "PAY_1                      -0.039447  1.000000  0.672164  0.574245  0.538841   \n",
      "PAY_2                      -0.050148  0.672164  1.000000  0.766552  0.662067   \n",
      "PAY_3                      -0.053048  0.574245  0.766552  1.000000  0.777359   \n",
      "PAY_4                      -0.049722  0.538841  0.662067  0.777359  1.000000   \n",
      "PAY_5                      -0.053826  0.509426  0.622780  0.686775  0.819835   \n",
      "PAY_6                      -0.048773  0.474553  0.575501  0.632684  0.716449   \n",
      "BILL_AMT1                   0.056239  0.187068  0.234887  0.208473  0.202812   \n",
      "BILL_AMT2                   0.054283  0.189859  0.235257  0.237295  0.225816   \n",
      "BILL_AMT3                   0.053710  0.179785  0.224146  0.227494  0.244983   \n",
      "BILL_AMT4                   0.051353  0.179125  0.222237  0.227202  0.245917   \n",
      "BILL_AMT5                   0.049345  0.180635  0.221348  0.225145  0.242902   \n",
      "BILL_AMT6                   0.047613  0.176980  0.219403  0.222327  0.239154   \n",
      "PAY_AMT1                    0.026147 -0.079269 -0.080701  0.001295 -0.009362   \n",
      "PAY_AMT2                    0.021785 -0.070101 -0.058990 -0.066793 -0.001944   \n",
      "PAY_AMT3                    0.029247 -0.070561 -0.055901 -0.053311 -0.069235   \n",
      "PAY_AMT4                    0.021379 -0.064005 -0.046858 -0.046067 -0.043461   \n",
      "PAY_AMT5                    0.022850 -0.058190 -0.037093 -0.035863 -0.033590   \n",
      "PAY_AMT6                    0.019478 -0.058673 -0.036500 -0.035861 -0.026565   \n",
      "default payment next month  0.013890  0.324794  0.263551  0.235253  0.216614   \n",
      "\n",
      "                               PAY_5  ...  BILL_AMT4  BILL_AMT5  BILL_AMT6  \\\n",
      "LIMIT_BAL                  -0.249411  ...   0.293988   0.295562   0.290389   \n",
      "SEX                        -0.055064  ...  -0.021880  -0.017005  -0.016733   \n",
      "EDUCATION                   0.097520  ...  -0.000451  -0.007567  -0.009099   \n",
      "MARRIAGE                    0.035629  ...  -0.023344  -0.025393  -0.021207   \n",
      "AGE                        -0.053826  ...   0.051353   0.049345   0.047613   \n",
      "PAY_1                       0.509426  ...   0.179125   0.180635   0.176980   \n",
      "PAY_2                       0.622780  ...   0.222237   0.221348   0.219403   \n",
      "PAY_3                       0.686775  ...   0.227202   0.225145   0.222327   \n",
      "PAY_4                       0.819835  ...   0.245917   0.242902   0.239154   \n",
      "PAY_5                       1.000000  ...   0.271915   0.269783   0.262509   \n",
      "PAY_6                       0.816900  ...   0.266356   0.290894   0.285091   \n",
      "BILL_AMT1                   0.206684  ...   0.860272   0.829779   0.802650   \n",
      "BILL_AMT2                   0.226913  ...   0.892482   0.859778   0.831594   \n",
      "BILL_AMT3                   0.243335  ...   0.923969   0.883910   0.853320   \n",
      "BILL_AMT4                   0.271915  ...   1.000000   0.940134   0.900941   \n",
      "BILL_AMT5                   0.269783  ...   0.940134   1.000000   0.946197   \n",
      "BILL_AMT6                   0.262509  ...   0.900941   0.946197   1.000000   \n",
      "PAY_AMT1                   -0.006089  ...   0.233012   0.217031   0.199965   \n",
      "PAY_AMT2                   -0.003191  ...   0.207564   0.181246   0.172663   \n",
      "PAY_AMT3                    0.009062  ...   0.300023   0.252305   0.233770   \n",
      "PAY_AMT4                   -0.058299  ...   0.130191   0.293118   0.250237   \n",
      "PAY_AMT5                   -0.033337  ...   0.160433   0.141574   0.307729   \n",
      "PAY_AMT6                   -0.023027  ...   0.177637   0.164184   0.115494   \n",
      "default payment next month  0.204149  ...  -0.010156  -0.006760  -0.005372   \n",
      "\n",
      "                            PAY_AMT1  PAY_AMT2  PAY_AMT3  PAY_AMT4  PAY_AMT5  \\\n",
      "LIMIT_BAL                   0.195236  0.178408  0.210167  0.203242  0.217202   \n",
      "SEX                        -0.000242 -0.001391 -0.008597 -0.002229 -0.001667   \n",
      "EDUCATION                  -0.037456 -0.030038 -0.039943 -0.038218 -0.040358   \n",
      "MARRIAGE                   -0.005979 -0.008093 -0.003541 -0.012659 -0.001205   \n",
      "AGE                         0.026147  0.021785  0.029247  0.021379  0.022850   \n",
      "PAY_1                      -0.079269 -0.070101 -0.070561 -0.064005 -0.058190   \n",
      "PAY_2                      -0.080701 -0.058990 -0.055901 -0.046858 -0.037093   \n",
      "PAY_3                       0.001295 -0.066793 -0.053311 -0.046067 -0.035863   \n",
      "PAY_4                      -0.009362 -0.001944 -0.069235 -0.043461 -0.033590   \n",
      "PAY_5                      -0.006089 -0.003191  0.009062 -0.058299 -0.033337   \n",
      "PAY_6                      -0.001496 -0.005223  0.005834  0.019018 -0.046434   \n",
      "BILL_AMT1                   0.140277  0.099355  0.156887  0.158303  0.167026   \n",
      "BILL_AMT2                   0.280365  0.100851  0.150718  0.147398  0.157957   \n",
      "BILL_AMT3                   0.244335  0.316936  0.130011  0.143405  0.179712   \n",
      "BILL_AMT4                   0.233012  0.207564  0.300023  0.130191  0.160433   \n",
      "BILL_AMT5                   0.217031  0.181246  0.252305  0.293118  0.141574   \n",
      "BILL_AMT6                   0.199965  0.172663  0.233770  0.250237  0.307729   \n",
      "PAY_AMT1                    1.000000  0.285576  0.252191  0.199558  0.148459   \n",
      "PAY_AMT2                    0.285576  1.000000  0.244770  0.180107  0.180908   \n",
      "PAY_AMT3                    0.252191  0.244770  1.000000  0.216325  0.159214   \n",
      "PAY_AMT4                    0.199558  0.180107  0.216325  1.000000  0.151830   \n",
      "PAY_AMT5                    0.148459  0.180908  0.159214  0.151830  1.000000   \n",
      "PAY_AMT6                    0.185735  0.157634  0.162740  0.157834  0.154896   \n",
      "default payment next month -0.072929 -0.058579 -0.056250 -0.056827 -0.055124   \n",
      "\n",
      "                            PAY_AMT6  default payment next month  \n",
      "LIMIT_BAL                   0.219595                   -0.153520  \n",
      "SEX                        -0.002766                   -0.039961  \n",
      "EDUCATION                  -0.037200                    0.028006  \n",
      "MARRIAGE                   -0.006641                   -0.024339  \n",
      "AGE                         0.019478                    0.013890  \n",
      "PAY_1                      -0.058673                    0.324794  \n",
      "PAY_2                      -0.036500                    0.263551  \n",
      "PAY_3                      -0.035861                    0.235253  \n",
      "PAY_4                      -0.026565                    0.216614  \n",
      "PAY_5                      -0.023027                    0.204149  \n",
      "PAY_6                      -0.025299                    0.186866  \n",
      "BILL_AMT1                   0.179341                   -0.019644  \n",
      "BILL_AMT2                   0.174256                   -0.014193  \n",
      "BILL_AMT3                   0.182326                   -0.014076  \n",
      "BILL_AMT4                   0.177637                   -0.010156  \n",
      "BILL_AMT5                   0.164184                   -0.006760  \n",
      "BILL_AMT6                   0.115494                   -0.005372  \n",
      "PAY_AMT1                    0.185735                   -0.072929  \n",
      "PAY_AMT2                    0.157634                   -0.058579  \n",
      "PAY_AMT3                    0.162740                   -0.056250  \n",
      "PAY_AMT4                    0.157834                   -0.056827  \n",
      "PAY_AMT5                    0.154896                   -0.055124  \n",
      "PAY_AMT6                    1.000000                   -0.053183  \n",
      "default payment next month -0.053183                    1.000000  \n",
      "\n",
      "[24 rows x 24 columns]\n"
     ]
    }
   ],
   "source": [
    "corrMat = ccredit.corr()\n",
    "print(corrMat)"
   ]
  },
  {
   "cell_type": "code",
   "execution_count": 37,
   "metadata": {},
   "outputs": [
    {
     "name": "stdout",
     "output_type": "stream",
     "text": [
      "                               LIMIT_BAL          SEX     EDUCATION  \\\n",
      "LIMIT_BAL                   1.683446e+10  1571.050630 -22474.028945   \n",
      "SEX                         1.571051e+03     0.239247      0.005502   \n",
      "EDUCATION                  -2.247403e+04     0.005502      0.624651   \n",
      "MARRIAGE                   -7.323670e+03    -0.008014     -0.059184   \n",
      "AGE                         1.730767e+05    -0.409726      1.275380   \n",
      "PAY_1                      -3.954593e+04    -0.031685      0.093584   \n",
      "PAY_2                      -4.603765e+04    -0.041442      0.115025   \n",
      "PAY_3                      -4.443225e+04    -0.038694      0.107861   \n",
      "PAY_4                      -4.057181e+04    -0.034411      0.100528   \n",
      "PAY_5                      -3.667056e+04    -0.030521      0.087340   \n",
      "PAY_6                      -3.509308e+04    -0.024754      0.074816   \n",
      "BILL_AMT1                   2.727020e+09 -1211.694332   1372.377644   \n",
      "BILL_AMT2                   2.570130e+09 -1085.595467   1054.657595   \n",
      "BILL_AMT3                   2.548533e+09  -833.207432    712.664124   \n",
      "BILL_AMT4                   2.453926e+09  -688.489572    -22.948827   \n",
      "BILL_AMT5                   2.331481e+09  -505.694333   -363.577664   \n",
      "BILL_AMT6                   2.243837e+09  -487.430160   -428.274232   \n",
      "PAY_AMT1                    4.195711e+08    -1.964266   -490.330155   \n",
      "PAY_AMT2                    5.333504e+08   -15.675500   -547.005021   \n",
      "PAY_AMT3                    4.801180e+08   -74.034812   -555.834305   \n",
      "PAY_AMT4                    4.131202e+08   -17.080110   -473.206951   \n",
      "PAY_AMT5                    4.305657e+08   -12.458809   -487.335947   \n",
      "PAY_AMT6                    5.065153e+08   -24.051885   -522.673379   \n",
      "default payment next month -8.267552e+03    -0.008113      0.009187   \n",
      "\n",
      "                               MARRIAGE            AGE         PAY_1  \\\n",
      "LIMIT_BAL                  -7323.669658  173076.722569 -39545.930009   \n",
      "SEX                           -0.008014      -0.409726     -0.031685   \n",
      "EDUCATION                     -0.059184       1.275380      0.093584   \n",
      "MARRIAGE                       0.272452      -1.992764      0.011683   \n",
      "AGE                           -1.992764      84.969755     -0.408639   \n",
      "PAY_1                          0.011683      -0.408639      1.262930   \n",
      "PAY_2                          0.015122      -0.553408      0.904330   \n",
      "PAY_3                          0.020421      -0.585263      0.772384   \n",
      "PAY_4                          0.020213      -0.535851      0.707972   \n",
      "PAY_5                          0.021074      -0.562245      0.648743   \n",
      "PAY_6                          0.020616      -0.517022      0.613292   \n",
      "BILL_AMT1                   -902.154685   38172.933546  15480.304170   \n",
      "BILL_AMT2                   -802.517866   35613.657962  15185.916919   \n",
      "BILL_AMT3                   -901.679085   34334.251320  14011.556537   \n",
      "BILL_AMT4                   -783.881599   30453.108180  12950.248389   \n",
      "BILL_AMT5                   -805.840875   27654.067800  12341.668685   \n",
      "BILL_AMT6                   -659.223347   26137.648547  11844.759724   \n",
      "PAY_AMT1                     -51.691615    3992.041735  -1475.495089   \n",
      "PAY_AMT2                     -97.327974    4626.861549  -1815.138407   \n",
      "PAY_AMT3                     -32.546082    4746.824393  -1396.168258   \n",
      "PAY_AMT4                    -103.518204    3087.324192  -1126.847945   \n",
      "PAY_AMT5                      -9.607709    3218.052172   -999.107730   \n",
      "PAY_AMT6                     -61.623271    3191.903901  -1172.193614   \n",
      "default payment next month    -0.005273       0.053143      0.151499   \n",
      "\n",
      "                                   PAY_2         PAY_3         PAY_4  \\\n",
      "LIMIT_BAL                  -46037.648360 -44432.253315 -40571.811859   \n",
      "SEX                            -0.041442     -0.038694     -0.034411   \n",
      "EDUCATION                       0.115025      0.107861      0.100528   \n",
      "MARRIAGE                        0.015122      0.020421      0.020213   \n",
      "AGE                            -0.553408     -0.585263     -0.535851   \n",
      "PAY_1                           0.904330      0.772384      0.707972   \n",
      "PAY_2                           1.433254      1.098371      0.926680   \n",
      "PAY_3                           1.098371      1.432492      1.087761   \n",
      "PAY_4                           0.926680      1.087761      1.366885   \n",
      "PAY_5                           0.844886      0.931455      1.086161   \n",
      "PAY_6                           0.792320      0.870815      0.963263   \n",
      "BILL_AMT1                   20706.614217  18373.210469  17460.198259   \n",
      "BILL_AMT2                   20045.829482  20214.071495  18790.627741   \n",
      "BILL_AMT3                   18609.510991  18882.491544  19862.999426   \n",
      "BILL_AMT4                   17116.298983  17494.100555  18496.423186   \n",
      "BILL_AMT5                   16110.952468  16382.947539  17265.551898   \n",
      "BILL_AMT6                   15642.875812  15847.089648  16651.586314   \n",
      "PAY_AMT1                    -1600.240756     25.668468   -181.295613   \n",
      "PAY_AMT2                    -1627.192336  -1841.952825    -52.358166   \n",
      "PAY_AMT3                    -1178.331282  -1123.428782  -1425.205189   \n",
      "PAY_AMT4                     -878.843879   -863.762183   -796.035739   \n",
      "PAY_AMT5                     -678.468530   -655.796002   -599.991629   \n",
      "PAY_AMT6                     -776.835035   -763.026041   -552.137338   \n",
      "default payment next month      0.130960      0.116867      0.105115   \n",
      "\n",
      "                                   PAY_5  ...     BILL_AMT4     BILL_AMT5  \\\n",
      "LIMIT_BAL                  -36670.562325  ...  2.453926e+09  2.331481e+09   \n",
      "SEX                            -0.030521  ... -6.884896e+02 -5.056943e+02   \n",
      "EDUCATION                       0.087340  ... -2.294883e+01 -3.635777e+02   \n",
      "MARRIAGE                        0.021074  ... -7.838816e+02 -8.058409e+02   \n",
      "AGE                            -0.562245  ...  3.045311e+04  2.765407e+04   \n",
      "PAY_1                           0.648743  ...  1.295025e+04  1.234167e+04   \n",
      "PAY_2                           0.844886  ...  1.711630e+04  1.611095e+04   \n",
      "PAY_3                           0.931455  ...  1.749410e+04  1.638295e+04   \n",
      "PAY_4                           1.086161  ...  1.849642e+04  1.726555e+04   \n",
      "PAY_5                           1.284114  ...  1.982293e+04  1.858659e+04   \n",
      "PAY_6                           1.064545  ...  1.970555e+04  2.033812e+04   \n",
      "BILL_AMT1                   17246.377531  ...  4.075286e+09  3.714795e+09   \n",
      "BILL_AMT2                   18301.285286  ...  4.086508e+09  3.720401e+09   \n",
      "BILL_AMT3                   19122.663330  ...  4.122238e+09  3.726780e+09   \n",
      "BILL_AMT4                   19822.925512  ...  4.138716e+09  3.677105e+09   \n",
      "BILL_AMT5                   18586.590324  ...  3.677105e+09  3.696294e+09   \n",
      "BILL_AMT6                   17715.690075  ...  3.451762e+09  3.425914e+09   \n",
      "PAY_AMT1                     -114.281714  ...  2.482888e+08  2.185501e+08   \n",
      "PAY_AMT2                      -83.324487  ...  3.076686e+08  2.538936e+08   \n",
      "PAY_AMT3                      180.812142  ...  3.398374e+08  2.700805e+08   \n",
      "PAY_AMT4                    -1034.961970  ...  1.312133e+08  2.791830e+08   \n",
      "PAY_AMT5                     -577.161017  ...  1.576892e+08  1.315051e+08   \n",
      "PAY_AMT6                     -463.892613  ...  2.031590e+08  1.774537e+08   \n",
      "default payment next month      0.096020  ... -2.711999e+02 -1.705974e+02   \n",
      "\n",
      "                               BILL_AMT6      PAY_AMT1      PAY_AMT2  \\\n",
      "LIMIT_BAL                   2.243837e+09  4.195711e+08  5.333504e+08   \n",
      "SEX                        -4.874302e+02 -1.964266e+00 -1.567550e+01   \n",
      "EDUCATION                  -4.282742e+02 -4.903302e+02 -5.470050e+02   \n",
      "MARRIAGE                   -6.592233e+02 -5.169161e+01 -9.732797e+01   \n",
      "AGE                         2.613765e+04  3.992042e+03  4.626862e+03   \n",
      "PAY_1                       1.184476e+04 -1.475495e+03 -1.815138e+03   \n",
      "PAY_2                       1.564288e+04 -1.600241e+03 -1.627192e+03   \n",
      "PAY_3                       1.584709e+04  2.566847e+01 -1.841953e+03   \n",
      "PAY_4                       1.665159e+04 -1.812956e+02 -5.235817e+01   \n",
      "PAY_5                       1.771569e+04 -1.142817e+02 -8.332449e+01   \n",
      "PAY_6                       1.952488e+04 -2.850067e+01 -1.383995e+02   \n",
      "BILL_AMT1                   3.519876e+09  1.710894e+08  1.685692e+08   \n",
      "BILL_AMT2                   3.524868e+09  3.305146e+08  1.653859e+08   \n",
      "BILL_AMT3                   3.524247e+09  2.806565e+08  5.064226e+08   \n",
      "BILL_AMT4                   3.451762e+09  2.482888e+08  3.076686e+08   \n",
      "BILL_AMT5                   3.425914e+09  2.185501e+08  2.538936e+08   \n",
      "BILL_AMT6                   3.546692e+09  1.972478e+08  2.369244e+08   \n",
      "PAY_AMT1                    1.972478e+08  2.743423e+08  1.089849e+08   \n",
      "PAY_AMT2                    2.369244e+08  1.089849e+08  5.308817e+08   \n",
      "PAY_AMT3                    2.451233e+08  7.354626e+07  9.929841e+07   \n",
      "PAY_AMT4                    2.334670e+08  5.178189e+07  6.501168e+07   \n",
      "PAY_AMT5                    2.799982e+08  3.756893e+07  6.368414e+07   \n",
      "PAY_AMT6                    1.222761e+08  5.469033e+07  6.456816e+07   \n",
      "default payment next month -1.327963e+02 -5.013746e+02 -5.602107e+02   \n",
      "\n",
      "                                PAY_AMT3      PAY_AMT4      PAY_AMT5  \\\n",
      "LIMIT_BAL                   4.801180e+08  4.131202e+08  4.305657e+08   \n",
      "SEX                        -7.403481e+01 -1.708011e+01 -1.245881e+01   \n",
      "EDUCATION                  -5.558343e+02 -4.732070e+02 -4.873359e+02   \n",
      "MARRIAGE                   -3.254608e+01 -1.035182e+02 -9.607709e+00   \n",
      "AGE                         4.746824e+03  3.087324e+03  3.218052e+03   \n",
      "PAY_1                      -1.396168e+03 -1.126848e+03 -9.991077e+02   \n",
      "PAY_2                      -1.178331e+03 -8.788439e+02 -6.784685e+02   \n",
      "PAY_3                      -1.123429e+03 -8.637622e+02 -6.557960e+02   \n",
      "PAY_4                      -1.425205e+03 -7.960357e+02 -5.999916e+02   \n",
      "PAY_5                       1.808121e+02 -1.034962e+03 -5.771610e+02   \n",
      "PAY_6                       1.181210e+02  3.426237e+02 -8.158327e+02   \n",
      "BILL_AMT1                   2.034048e+08  1.826164e+08  1.879091e+08   \n",
      "BILL_AMT2                   1.888731e+08  1.643518e+08  1.717652e+08   \n",
      "BILL_AMT3                   1.587478e+08  1.558003e+08  1.904126e+08   \n",
      "BILL_AMT4                   3.398374e+08  1.312133e+08  1.576892e+08   \n",
      "BILL_AMT5                   2.700805e+08  2.791830e+08  1.315051e+08   \n",
      "BILL_AMT6                   2.451233e+08  2.334670e+08  2.799982e+08   \n",
      "PAY_AMT1                    7.354626e+07  5.178189e+07  3.756893e+07   \n",
      "PAY_AMT2                    9.929841e+07  6.501168e+07  6.368414e+07   \n",
      "PAY_AMT3                    3.100051e+08  5.966970e+07  4.282921e+07   \n",
      "PAY_AMT4                    5.966970e+07  2.454286e+08  3.634098e+07   \n",
      "PAY_AMT5                    4.282921e+07  3.634098e+07  2.334266e+08   \n",
      "PAY_AMT6                    5.093879e+07  4.395747e+07  4.207110e+07   \n",
      "default payment next month -4.110763e+02 -3.695159e+02 -3.495625e+02   \n",
      "\n",
      "                                PAY_AMT6  default payment next month  \n",
      "LIMIT_BAL                   5.065153e+08                -8267.551759  \n",
      "SEX                        -2.405188e+01                   -0.008113  \n",
      "EDUCATION                  -5.226734e+02                    0.009187  \n",
      "MARRIAGE                   -6.162327e+01                   -0.005273  \n",
      "AGE                         3.191904e+03                    0.053143  \n",
      "PAY_1                      -1.172194e+03                    0.151499  \n",
      "PAY_2                      -7.768350e+02                    0.130960  \n",
      "PAY_3                      -7.630260e+02                    0.116867  \n",
      "PAY_4                      -5.521373e+02                    0.105115  \n",
      "PAY_5                      -4.638926e+02                    0.096020  \n",
      "PAY_6                      -5.172163e+02                    0.089194  \n",
      "BILL_AMT1                   2.347681e+08                 -600.394108  \n",
      "BILL_AMT2                   2.204845e+08                 -419.289137  \n",
      "BILL_AMT3                   2.247817e+08                 -405.153680  \n",
      "BILL_AMT4                   2.031590e+08                 -271.199885  \n",
      "BILL_AMT5                   1.774537e+08                 -170.597447  \n",
      "BILL_AMT6                   1.222761e+08                 -132.796294  \n",
      "PAY_AMT1                    5.469033e+07                 -501.374552  \n",
      "PAY_AMT2                    6.456816e+07                 -560.210740  \n",
      "PAY_AMT3                    5.093879e+07                 -411.076284  \n",
      "PAY_AMT4                    4.395747e+07                 -369.515887  \n",
      "PAY_AMT5                    4.207110e+07                 -349.562530  \n",
      "PAY_AMT6                    3.160383e+08                 -392.426415  \n",
      "default payment next month -3.924264e+02                    0.172276  \n",
      "\n",
      "[24 rows x 24 columns]\n"
     ]
    }
   ],
   "source": [
    "covMat = ccredit.cov()\n",
    "print(covMat)"
   ]
  },
  {
   "cell_type": "code",
   "execution_count": 45,
   "metadata": {},
   "outputs": [
    {
     "data": {
      "text/plain": [
       "SEX  EDUCATION\n",
       "1    0               8\n",
       "     1            4354\n",
       "     2            5374\n",
       "     3            1990\n",
       "     4              42\n",
       "     5              95\n",
       "     6              25\n",
       "2    0               6\n",
       "     1            6231\n",
       "     2            8656\n",
       "     3            2927\n",
       "     4              81\n",
       "     5             185\n",
       "     6              26\n",
       "Name: SEX, dtype: int64"
      ]
     },
     "execution_count": 45,
     "metadata": {},
     "output_type": "execute_result"
    }
   ],
   "source": [
    "ccredit.groupby(['SEX', 'EDUCATION'])['SEX'].count()"
   ]
  },
  {
   "cell_type": "code",
   "execution_count": 52,
   "metadata": {},
   "outputs": [
    {
     "data": {
      "text/plain": [
       "<seaborn.axisgrid.FacetGrid at 0x25091b1dc88>"
      ]
     },
     "execution_count": 52,
     "metadata": {},
     "output_type": "execute_result"
    },
    {
     "data": {
      "image/png": "[encoded data removed]",
      "text/plain": [
       "<Figure size 672.375x360 with 1 Axes>"
      ]
     },
     "metadata": {
      "needs_background": "light"
     },
     "output_type": "display_data"
    }
   ],
   "source": [
    "g = sns.factorplot('EDUCATION', data=ccredit, hue='SEX', kind='count', aspect=1.75)\n",
    "g.set_xlabels('Class')"
   ]
  },
  {
   "cell_type": "code",
   "execution_count": 55,
   "metadata": {},
   "outputs": [
    {
     "data": {
      "text/html": [
       "<div>\n",
       "<style scoped>\n",
       "    .dataframe tbody tr th:only-of-type {\n",
       "        vertical-align: middle;\n",
       "    }\n",
       "\n",
       "    .dataframe tbody tr th {\n",
       "        vertical-align: top;\n",
       "    }\n",
       "\n",
       "    .dataframe thead th {\n",
       "        text-align: right;\n",
       "    }\n",
       "</style>\n",
       "<table border=\"1\" class=\"dataframe\">\n",
       "  <thead>\n",
       "    <tr style=\"text-align: right;\">\n",
       "      <th>EDUCATION</th>\n",
       "      <th>0</th>\n",
       "      <th>1</th>\n",
       "      <th>2</th>\n",
       "      <th>3</th>\n",
       "      <th>4</th>\n",
       "      <th>5</th>\n",
       "      <th>6</th>\n",
       "      <th>All</th>\n",
       "    </tr>\n",
       "    <tr>\n",
       "      <th>SEX</th>\n",
       "      <th></th>\n",
       "      <th></th>\n",
       "      <th></th>\n",
       "      <th></th>\n",
       "      <th></th>\n",
       "      <th></th>\n",
       "      <th></th>\n",
       "      <th></th>\n",
       "    </tr>\n",
       "  </thead>\n",
       "  <tbody>\n",
       "    <tr>\n",
       "      <td>1</td>\n",
       "      <td>0</td>\n",
       "      <td>906</td>\n",
       "      <td>1408</td>\n",
       "      <td>545</td>\n",
       "      <td>4</td>\n",
       "      <td>6</td>\n",
       "      <td>4</td>\n",
       "      <td>2873</td>\n",
       "    </tr>\n",
       "    <tr>\n",
       "      <td>2</td>\n",
       "      <td>0</td>\n",
       "      <td>1130</td>\n",
       "      <td>1922</td>\n",
       "      <td>692</td>\n",
       "      <td>3</td>\n",
       "      <td>12</td>\n",
       "      <td>4</td>\n",
       "      <td>3763</td>\n",
       "    </tr>\n",
       "    <tr>\n",
       "      <td>All</td>\n",
       "      <td>0</td>\n",
       "      <td>2036</td>\n",
       "      <td>3330</td>\n",
       "      <td>1237</td>\n",
       "      <td>7</td>\n",
       "      <td>18</td>\n",
       "      <td>8</td>\n",
       "      <td>6636</td>\n",
       "    </tr>\n",
       "  </tbody>\n",
       "</table>\n",
       "</div>"
      ],
      "text/plain": [
       "EDUCATION  0     1     2     3  4   5  6   All\n",
       "SEX                                           \n",
       "1          0   906  1408   545  4   6  4  2873\n",
       "2          0  1130  1922   692  3  12  4  3763\n",
       "All        0  2036  3330  1237  7  18  8  6636"
      ]
     },
     "execution_count": 55,
     "metadata": {},
     "output_type": "execute_result"
    }
   ],
   "source": [
    "#Number of clients who defaulted in each education lvel grouped by sex.\n",
    "ccredit.pivot_table('default', 'SEX', 'EDUCATION', aggfunc=np.sum, margins=True)"
   ]
  },
  {
   "cell_type": "code",
   "execution_count": 57,
   "metadata": {},
   "outputs": [
    {
     "data": {
      "text/plain": [
       "<seaborn.axisgrid.FacetGrid at 0x25091c07a08>"
      ]
     },
     "execution_count": 57,
     "metadata": {},
     "output_type": "execute_result"
    },
    {
     "data": {
      "image/png": "[encoded data removed]",
      "text/plain": [
       "<Figure size 360x360 with 1 Axes>"
      ]
     },
     "metadata": {
      "needs_background": "light"
     },
     "output_type": "display_data"
    }
   ],
   "source": [
    "# Factor plot of those who default vs who did not default\n",
    "sns.factorplot('default', data=ccredit, kind='count')"
   ]
  },
  {
   "cell_type": "code",
   "execution_count": 60,
   "metadata": {},
   "outputs": [],
   "source": [
    "not_default = ccredit[ccredit['default']==0]"
   ]
  },
  {
   "cell_type": "code",
   "execution_count": 61,
   "metadata": {},
   "outputs": [
    {
     "data": {
      "text/html": [
       "<div>\n",
       "<style scoped>\n",
       "    .dataframe tbody tr th:only-of-type {\n",
       "        vertical-align: middle;\n",
       "    }\n",
       "\n",
       "    .dataframe tbody tr th {\n",
       "        vertical-align: top;\n",
       "    }\n",
       "\n",
       "    .dataframe thead th {\n",
       "        text-align: right;\n",
       "    }\n",
       "</style>\n",
       "<table border=\"1\" class=\"dataframe\">\n",
       "  <thead>\n",
       "    <tr style=\"text-align: right;\">\n",
       "      <th>EDUCATION</th>\n",
       "      <th>0</th>\n",
       "      <th>1</th>\n",
       "      <th>2</th>\n",
       "      <th>3</th>\n",
       "      <th>4</th>\n",
       "      <th>5</th>\n",
       "      <th>6</th>\n",
       "      <th>All</th>\n",
       "    </tr>\n",
       "    <tr>\n",
       "      <th>SEX</th>\n",
       "      <th></th>\n",
       "      <th></th>\n",
       "      <th></th>\n",
       "      <th></th>\n",
       "      <th></th>\n",
       "      <th></th>\n",
       "      <th></th>\n",
       "      <th></th>\n",
       "    </tr>\n",
       "  </thead>\n",
       "  <tbody>\n",
       "    <tr>\n",
       "      <td>1</td>\n",
       "      <td>8</td>\n",
       "      <td>3448</td>\n",
       "      <td>3966</td>\n",
       "      <td>1445</td>\n",
       "      <td>38</td>\n",
       "      <td>89</td>\n",
       "      <td>21</td>\n",
       "      <td>9015</td>\n",
       "    </tr>\n",
       "    <tr>\n",
       "      <td>2</td>\n",
       "      <td>6</td>\n",
       "      <td>5101</td>\n",
       "      <td>6734</td>\n",
       "      <td>2235</td>\n",
       "      <td>78</td>\n",
       "      <td>173</td>\n",
       "      <td>22</td>\n",
       "      <td>14349</td>\n",
       "    </tr>\n",
       "    <tr>\n",
       "      <td>All</td>\n",
       "      <td>14</td>\n",
       "      <td>8549</td>\n",
       "      <td>10700</td>\n",
       "      <td>3680</td>\n",
       "      <td>116</td>\n",
       "      <td>262</td>\n",
       "      <td>43</td>\n",
       "      <td>23364</td>\n",
       "    </tr>\n",
       "  </tbody>\n",
       "</table>\n",
       "</div>"
      ],
      "text/plain": [
       "EDUCATION   0     1      2     3    4    5   6    All\n",
       "SEX                                                  \n",
       "1           8  3448   3966  1445   38   89  21   9015\n",
       "2           6  5101   6734  2235   78  173  22  14349\n",
       "All        14  8549  10700  3680  116  262  43  23364"
      ]
     },
     "execution_count": 61,
     "metadata": {},
     "output_type": "execute_result"
    }
   ],
   "source": [
    "#Number of clients who did not defaulted in each education lvel grouped by sex.\n",
    "not_default.pivot_table('default', 'SEX', 'EDUCATION', aggfunc=len, margins=True)"
   ]
  },
  {
   "cell_type": "code",
   "execution_count": 65,
   "metadata": {},
   "outputs": [],
   "source": [
    "table = pd.crosstab(index=[ccredit.default, ccredit.EDUCATION], \n",
    "                    columns=[ccredit.SEX, ccredit.MARRIAGE])"
   ]
  },
  {
   "cell_type": "code",
   "execution_count": 66,
   "metadata": {},
   "outputs": [
    {
     "data": {
      "text/html": [
       "<div>\n",
       "<style scoped>\n",
       "    .dataframe tbody tr th:only-of-type {\n",
       "        vertical-align: middle;\n",
       "    }\n",
       "\n",
       "    .dataframe tbody tr th {\n",
       "        vertical-align: top;\n",
       "    }\n",
       "\n",
       "    .dataframe thead tr th {\n",
       "        text-align: left;\n",
       "    }\n",
       "\n",
       "    .dataframe thead tr:last-of-type th {\n",
       "        text-align: right;\n",
       "    }\n",
       "</style>\n",
       "<table border=\"1\" class=\"dataframe\">\n",
       "  <thead>\n",
       "    <tr>\n",
       "      <th>SEX</th>\n",
       "      <th colspan=\"10\" halign=\"left\">1</th>\n",
       "      <th>...</th>\n",
       "      <th colspan=\"10\" halign=\"left\">2</th>\n",
       "    </tr>\n",
       "    <tr>\n",
       "      <th>MARRIAGE</th>\n",
       "      <th colspan=\"7\" halign=\"left\">0</th>\n",
       "      <th colspan=\"3\" halign=\"left\">1</th>\n",
       "      <th>...</th>\n",
       "      <th colspan=\"3\" halign=\"left\">2</th>\n",
       "      <th colspan=\"7\" halign=\"left\">3</th>\n",
       "    </tr>\n",
       "    <tr>\n",
       "      <th>EDUCATION</th>\n",
       "      <th>0</th>\n",
       "      <th>1</th>\n",
       "      <th>2</th>\n",
       "      <th>3</th>\n",
       "      <th>4</th>\n",
       "      <th>5</th>\n",
       "      <th>6</th>\n",
       "      <th>0</th>\n",
       "      <th>1</th>\n",
       "      <th>2</th>\n",
       "      <th>...</th>\n",
       "      <th>4</th>\n",
       "      <th>5</th>\n",
       "      <th>6</th>\n",
       "      <th>0</th>\n",
       "      <th>1</th>\n",
       "      <th>2</th>\n",
       "      <th>3</th>\n",
       "      <th>4</th>\n",
       "      <th>5</th>\n",
       "      <th>6</th>\n",
       "    </tr>\n",
       "    <tr>\n",
       "      <th>default</th>\n",
       "      <th></th>\n",
       "      <th></th>\n",
       "      <th></th>\n",
       "      <th></th>\n",
       "      <th></th>\n",
       "      <th></th>\n",
       "      <th></th>\n",
       "      <th></th>\n",
       "      <th></th>\n",
       "      <th></th>\n",
       "      <th></th>\n",
       "      <th></th>\n",
       "      <th></th>\n",
       "      <th></th>\n",
       "      <th></th>\n",
       "      <th></th>\n",
       "      <th></th>\n",
       "      <th></th>\n",
       "      <th></th>\n",
       "      <th></th>\n",
       "      <th></th>\n",
       "    </tr>\n",
       "  </thead>\n",
       "  <tbody>\n",
       "    <tr>\n",
       "      <td>0</td>\n",
       "      <td>0.0</td>\n",
       "      <td>1.0</td>\n",
       "      <td>1.0</td>\n",
       "      <td>10.0</td>\n",
       "      <td>0.0</td>\n",
       "      <td>0.0</td>\n",
       "      <td>0.0</td>\n",
       "      <td>2.0</td>\n",
       "      <td>1300.0</td>\n",
       "      <td>1727.0</td>\n",
       "      <td>...</td>\n",
       "      <td>43.0</td>\n",
       "      <td>74.0</td>\n",
       "      <td>7.0</td>\n",
       "      <td>0.0</td>\n",
       "      <td>17.0</td>\n",
       "      <td>74.0</td>\n",
       "      <td>51.0</td>\n",
       "      <td>2.0</td>\n",
       "      <td>2.0</td>\n",
       "      <td>2.0</td>\n",
       "    </tr>\n",
       "    <tr>\n",
       "      <td>1</td>\n",
       "      <td>NaN</td>\n",
       "      <td>0.0</td>\n",
       "      <td>0.0</td>\n",
       "      <td>2.0</td>\n",
       "      <td>0.0</td>\n",
       "      <td>0.0</td>\n",
       "      <td>0.0</td>\n",
       "      <td>NaN</td>\n",
       "      <td>390.0</td>\n",
       "      <td>643.0</td>\n",
       "      <td>...</td>\n",
       "      <td>2.0</td>\n",
       "      <td>7.0</td>\n",
       "      <td>3.0</td>\n",
       "      <td>NaN</td>\n",
       "      <td>3.0</td>\n",
       "      <td>25.0</td>\n",
       "      <td>16.0</td>\n",
       "      <td>0.0</td>\n",
       "      <td>0.0</td>\n",
       "      <td>0.0</td>\n",
       "    </tr>\n",
       "  </tbody>\n",
       "</table>\n",
       "<p>2 rows × 56 columns</p>\n",
       "</div>"
      ],
      "text/plain": [
       "SEX          1                                                      ...     2  \\\n",
       "MARRIAGE     0                                   1                  ...     2   \n",
       "EDUCATION    0    1    2     3    4    5    6    0       1       2  ...     4   \n",
       "default                                                             ...         \n",
       "0          0.0  1.0  1.0  10.0  0.0  0.0  0.0  2.0  1300.0  1727.0  ...  43.0   \n",
       "1          NaN  0.0  0.0   2.0  0.0  0.0  0.0  NaN   390.0   643.0  ...   2.0   \n",
       "\n",
       "SEX                                                         \n",
       "MARRIAGE                3                                   \n",
       "EDUCATION     5    6    0     1     2     3    4    5    6  \n",
       "default                                                     \n",
       "0          74.0  7.0  0.0  17.0  74.0  51.0  2.0  2.0  2.0  \n",
       "1           7.0  3.0  NaN   3.0  25.0  16.0  0.0  0.0  0.0  \n",
       "\n",
       "[2 rows x 56 columns]"
      ]
     },
     "execution_count": 66,
     "metadata": {},
     "output_type": "execute_result"
    }
   ],
   "source": [
    "table.unstack()"
   ]
  },
  {
   "cell_type": "code",
   "execution_count": 91,
   "metadata": {},
   "outputs": [
    {
     "data": {
      "image/png": "[encoded data removed]",
      "text/plain": [
       "<Figure size 432x288 with 1 Axes>"
      ]
     },
     "metadata": {
      "needs_background": "light"
     },
     "output_type": "display_data"
    }
   ],
   "source": [
    "limit_dist = sns.distplot(ccredit.LIMIT_BAL)"
   ]
  },
  {
   "cell_type": "code",
   "execution_count": 92,
   "metadata": {},
   "outputs": [
    {
     "data": {
      "image/png": "[encoded data removed]",
      "text/plain": [
       "<Figure size 432x288 with 1 Axes>"
      ]
     },
     "metadata": {
      "needs_background": "light"
     },
     "output_type": "display_data"
    }
   ],
   "source": [
    "pay_dist = sns.distplot(ccredit.PAY_1)"
   ]
  },
  {
   "cell_type": "code",
   "execution_count": 95,
   "metadata": {},
   "outputs": [
    {
     "data": {
      "image/png": "[encoded data removed]",
      "text/plain": [
       "<Figure size 432x288 with 1 Axes>"
      ]
     },
     "metadata": {
      "needs_background": "light"
     },
     "output_type": "display_data"
    }
   ],
   "source": [
    "edu_dist = sns.distplot(ccredit.EDUCATION)"
   ]
  },
  {
   "cell_type": "code",
   "execution_count": 69,
   "metadata": {},
   "outputs": [
    {
     "data": {
      "image/png": "[encoded data removed]",
      "text/plain": [
       "<Figure size 432x288 with 1 Axes>"
      ]
     },
     "metadata": {
      "needs_background": "light"
     },
     "output_type": "display_data"
    }
   ],
   "source": [
    "#Distribution of age with an overlay of a density plot\n",
    "age_dist = sns.distplot(ccredit.AGE)"
   ]
  },
  {
   "cell_type": "code",
   "execution_count": 70,
   "metadata": {},
   "outputs": [
    {
     "data": {
      "text/plain": [
       "<matplotlib.axes._subplots.AxesSubplot at 0x25091c977c8>"
      ]
     },
     "execution_count": 70,
     "metadata": {},
     "output_type": "execute_result"
    },
    {
     "data": {
      "image/png": "[encoded data removed]",
      "text/plain": [
       "<Figure size 432x288 with 1 Axes>"
      ]
     },
     "metadata": {
      "needs_background": "light"
     },
     "output_type": "display_data"
    }
   ],
   "source": [
    "ccredit['AGE'].hist(bins=50)"
   ]
  },
  {
   "cell_type": "code",
   "execution_count": 71,
   "metadata": {},
   "outputs": [
    {
     "data": {
      "text/plain": [
       "<seaborn.axisgrid.FacetGrid at 0x250940a51c8>"
      ]
     },
     "execution_count": 71,
     "metadata": {},
     "output_type": "execute_result"
    },
    {
     "data": {
      "image/png": "[encoded data removed]",
      "text/plain": [
       "<Figure size 360x360 with 1 Axes>"
      ]
     },
     "metadata": {
      "needs_background": "light"
     },
     "output_type": "display_data"
    }
   ],
   "source": [
    "sns.lmplot('AGE', 'default', data=ccredit)"
   ]
  },
  {
   "cell_type": "code",
   "execution_count": 72,
   "metadata": {},
   "outputs": [
    {
     "data": {
      "text/plain": [
       "<seaborn.axisgrid.FacetGrid at 0x25094119748>"
      ]
     },
     "execution_count": 72,
     "metadata": {},
     "output_type": "execute_result"
    },
    {
     "data": {
      "image/png": "[encoded data removed]",
      "text/plain": [
       "<Figure size 402.375x360 with 1 Axes>"
      ]
     },
     "metadata": {
      "needs_background": "light"
     },
     "output_type": "display_data"
    }
   ],
   "source": [
    "sns.lmplot('AGE', 'default', data=ccredit, hue='SEX')"
   ]
  },
  {
   "cell_type": "code",
   "execution_count": 74,
   "metadata": {},
   "outputs": [
    {
     "data": {
      "text/plain": [
       "<seaborn.axisgrid.FacetGrid at 0x25093555908>"
      ]
     },
     "execution_count": 74,
     "metadata": {},
     "output_type": "execute_result"
    },
    {
     "data": {
      "image/png": "[encoded data removed]",
      "text/plain": [
       "<Figure size 402.375x360 with 1 Axes>"
      ]
     },
     "metadata": {
      "needs_background": "light"
     },
     "output_type": "display_data"
    }
   ],
   "source": [
    "generations = [20,40,60,80]\n",
    "sns.lmplot('AGE', 'default', hue='SEX', data=ccredit, x_bins=generations)"
   ]
  },
  {
   "cell_type": "code",
   "execution_count": 76,
   "metadata": {},
   "outputs": [
    {
     "data": {
      "text/plain": [
       "<seaborn.axisgrid.FacetGrid at 0x2509350a9c8>"
      ]
     },
     "execution_count": 76,
     "metadata": {},
     "output_type": "execute_result"
    },
    {
     "data": {
      "image/png": "[encoded data removed]",
      "text/plain": [
       "<Figure size 402.375x360 with 1 Axes>"
      ]
     },
     "metadata": {
      "needs_background": "light"
     },
     "output_type": "display_data"
    }
   ],
   "source": [
    "sns.factorplot('MARRIAGE', 'default', hue='SEX', data=ccredit)"
   ]
  },
  {
   "cell_type": "code",
   "execution_count": 83,
   "metadata": {},
   "outputs": [
    {
     "data": {
      "text/plain": [
       "<seaborn.axisgrid.FacetGrid at 0x250999fc688>"
      ]
     },
     "execution_count": 83,
     "metadata": {},
     "output_type": "execute_result"
    },
    {
     "data": {
      "image/png": "[encoded data removed]",
      "text/plain": [
       "<Figure size 402.375x360 with 1 Axes>"
      ]
     },
     "metadata": {
      "needs_background": "light"
     },
     "output_type": "display_data"
    }
   ],
   "source": [
    "sns.lmplot('LIMIT_BAL', 'default', data=ccredit, hue='SEX')"
   ]
  },
  {
   "cell_type": "code",
   "execution_count": 94,
   "metadata": {},
   "outputs": [
    {
     "data": {
      "text/plain": [
       "<seaborn.axisgrid.FacetGrid at 0x25099918d48>"
      ]
     },
     "execution_count": 94,
     "metadata": {},
     "output_type": "execute_result"
    },
    {
     "data": {
      "image/png": "[encoded data removed]",
      "text/plain": [
       "<Figure size 402.375x360 with 1 Axes>"
      ]
     },
     "metadata": {
      "needs_background": "light"
     },
     "output_type": "display_data"
    }
   ],
   "source": [
    "sns.lmplot('EDUCATION', 'default', data=ccredit, hue='SEX')"
   ]
  },
  {
   "cell_type": "code",
   "execution_count": 84,
   "metadata": {
    "scrolled": false
   },
   "outputs": [
    {
     "data": {
      "text/plain": [
       "<seaborn.axisgrid.FacetGrid at 0x25099a47e08>"
      ]
     },
     "execution_count": 84,
     "metadata": {},
     "output_type": "execute_result"
    },
    {
     "data": {
      "image/png": "[encoded data removed]",
      "text/plain": [
       "<Figure size 402.375x360 with 1 Axes>"
      ]
     },
     "metadata": {
      "needs_background": "light"
     },
     "output_type": "display_data"
    }
   ],
   "source": [
    "sns.lmplot('PAY_1', 'default', data=ccredit, hue='SEX')"
   ]
  }
 ],
 "metadata": {
  "kernelspec": {
   "display_name": "Python 3",
   "language": "python",
   "name": "python3"
  },
  "language_info": {
   "codemirror_mode": {
    "name": "ipython",
    "version": 3
   },
   "file_extension": ".py",
   "mimetype": "text/x-python",
   "name": "python",
   "nbconvert_exporter": "python",
   "pygments_lexer": "ipython3",
   "version": "3.7.4"
  }
 },
 "nbformat": 4,
 "nbformat_minor": 2
}
